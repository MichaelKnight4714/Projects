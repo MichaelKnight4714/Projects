{
 "cells": [
  {
   "cell_type": "markdown",
   "metadata": {},
   "source": [
    "# Project 2: Ames Housing Data and [Kaggle Challenge](https://www.kaggle.com/c/dsi-us-8-project-2-regression-challenge/)"
   ]
  },
  {
   "cell_type": "markdown",
   "metadata": {},
   "source": [
    "Predicting house prices based on a long series of features describing various different aspects of a house\n",
    "\n",
    "## Problem Statement"
   ]
  },
  {
   "cell_type": "markdown",
   "metadata": {},
   "source": [
    "Using the well known Ames housing data, as well as a guide in the form of an [Ames Housing .txt file](http://jse.amstat.org/v19n3/decock/DataDocumentation.txt), I created a regression model that predicts the price of houses in Ames, Iowa.  It required a lot of data cleaning (fixing null values appropriately and dropping unneeded information), and I did some evaluation of the correlations to determine which features had the most impact on price (both positively and negatively).\n",
    "\n"
   ]
  },
  {
   "cell_type": "markdown",
   "metadata": {},
   "source": [
    "## Executive Summary\n",
    "\n",
    "\n",
    "My aim was to predict the sales price for each house in the provided testing data. For each Id in the test set, I had to predict the value of the SalePrice variable.  I was doing this to submit to [Kaggle](https://www.kaggle.com/) as part of a [competition](https://www.kaggle.com/c/dsi-us-8-project-2-regression-challenge/) (so the final data had to be submitted very particularly), where [Kaggle](https://www.kaggle.com/c/dsi-us-8-project-2-regression-challenge/) leaderboard standings will be determined by root mean squared error (RMSE).\n",
    "\n",
    "\n",
    "### Contents:\n",
    "- [Data Import & Cleaning](#Data-Import-and-Cleaning)\n",
    "- [Dummy Variables](#Dummy-Variables)\n",
    "- [Which neighborhoods are the best investment?](#Which-neighborhoods-are-the-best-investment?)\n",
    "- [Make sure each data set has the same columns](#Make-sure-each-data-set-has-the-same-columns)\n",
    "- [Features with strongest and weakest correlations to Sale Price](#Features-with-strongest-and-weakest-correlations-to-Sale-Price)\n",
    "- [Fitting The Model](#Fitting-The-Model)\n",
    "- [Preparing Submissions To Submit to Kaggle](#Preparing-Submissions-To-Submit-to-Kaggle)\n",
    "- [Conclusions and Recommendations](#Conclusions-and-Recommendations)\n",
    "- [Source Documentation](#Source-Documentation)"
   ]
  },
  {
   "cell_type": "markdown",
   "metadata": {},
   "source": [
    "*All libraries used are added here*"
   ]
  },
  {
   "cell_type": "code",
   "execution_count": 1,
   "metadata": {},
   "outputs": [],
   "source": [
    "#Imports:\n",
    "\n",
    "import pandas as pd\n",
    "import numpy as np\n",
    "import seaborn as sns\n",
    "import matplotlib.pyplot as plt\n",
    "from sklearn.linear_model import LinearRegression, LassoCV, RidgeCV\n",
    "from sklearn.model_selection import train_test_split, cross_val_score\n",
    "from sklearn.preprocessing import StandardScaler\n",
    "from sklearn.metrics import r2_score, mean_squared_error\n",
    "\n",
    "%matplotlib inline"
   ]
  },
  {
   "cell_type": "markdown",
   "metadata": {},
   "source": [
    "## Data Import and Cleaning"
   ]
  },
  {
   "cell_type": "markdown",
   "metadata": {},
   "source": [
    "#### 1. Read In Ames Housing Training Data\n",
    "\n",
    "Read in the `train.csv` and `test.csv` files and assign them to appropriately named pandas dataframes."
   ]
  },
  {
   "cell_type": "code",
   "execution_count": 2,
   "metadata": {},
   "outputs": [],
   "source": [
    "#Code:\n",
    "#read train.csv into 'train'\n",
    "train = pd.read_csv('./datasets/train.csv')\n",
    "\n",
    "#read test.csv into 'test'\n",
    "test = pd.read_csv('./datasets/test.csv')"
   ]
  },
  {
   "cell_type": "code",
   "execution_count": 3,
   "metadata": {},
   "outputs": [],
   "source": [
    "#code\n",
    "#save the original clean train.csv data (saved as train) and export into a .csv file in our current lab folder\n",
    "# just in case we need to reference it so it doesn't get accidentally permanently deleted\n",
    "train.to_csv('./datasets/clean_train.csv', index=False)\n",
    "\n",
    "#save the original clean test.csv data (saved as train) and export into a .csv file in our current lab folder\n",
    "# just in case we need to reference it so it doesn't get accidentally permanently deleted\n",
    "test.to_csv('./datasets/clean_test.csv', index=False)"
   ]
  },
  {
   "cell_type": "markdown",
   "metadata": {},
   "source": [
    "#### I had to be careful to do everything that I did for the train to the test so that I could use the same model on both"
   ]
  },
  {
   "cell_type": "code",
   "execution_count": 4,
   "metadata": {},
   "outputs": [
    {
     "data": {
      "text/html": [
       "<div>\n",
       "<style scoped>\n",
       "    .dataframe tbody tr th:only-of-type {\n",
       "        vertical-align: middle;\n",
       "    }\n",
       "\n",
       "    .dataframe tbody tr th {\n",
       "        vertical-align: top;\n",
       "    }\n",
       "\n",
       "    .dataframe thead th {\n",
       "        text-align: right;\n",
       "    }\n",
       "</style>\n",
       "<table border=\"1\" class=\"dataframe\">\n",
       "  <thead>\n",
       "    <tr style=\"text-align: right;\">\n",
       "      <th></th>\n",
       "      <th>Id</th>\n",
       "      <th>PID</th>\n",
       "      <th>MS SubClass</th>\n",
       "      <th>MS Zoning</th>\n",
       "      <th>Lot Frontage</th>\n",
       "      <th>Lot Area</th>\n",
       "      <th>Street</th>\n",
       "      <th>Alley</th>\n",
       "      <th>Lot Shape</th>\n",
       "      <th>Land Contour</th>\n",
       "      <th>...</th>\n",
       "      <th>Screen Porch</th>\n",
       "      <th>Pool Area</th>\n",
       "      <th>Pool QC</th>\n",
       "      <th>Fence</th>\n",
       "      <th>Misc Feature</th>\n",
       "      <th>Misc Val</th>\n",
       "      <th>Mo Sold</th>\n",
       "      <th>Yr Sold</th>\n",
       "      <th>Sale Type</th>\n",
       "      <th>SalePrice</th>\n",
       "    </tr>\n",
       "  </thead>\n",
       "  <tbody>\n",
       "    <tr>\n",
       "      <th>0</th>\n",
       "      <td>109</td>\n",
       "      <td>533352170</td>\n",
       "      <td>60</td>\n",
       "      <td>RL</td>\n",
       "      <td>NaN</td>\n",
       "      <td>13517</td>\n",
       "      <td>Pave</td>\n",
       "      <td>NaN</td>\n",
       "      <td>IR1</td>\n",
       "      <td>Lvl</td>\n",
       "      <td>...</td>\n",
       "      <td>0</td>\n",
       "      <td>0</td>\n",
       "      <td>NaN</td>\n",
       "      <td>NaN</td>\n",
       "      <td>NaN</td>\n",
       "      <td>0</td>\n",
       "      <td>3</td>\n",
       "      <td>2010</td>\n",
       "      <td>WD</td>\n",
       "      <td>130500</td>\n",
       "    </tr>\n",
       "    <tr>\n",
       "      <th>1</th>\n",
       "      <td>544</td>\n",
       "      <td>531379050</td>\n",
       "      <td>60</td>\n",
       "      <td>RL</td>\n",
       "      <td>43.0</td>\n",
       "      <td>11492</td>\n",
       "      <td>Pave</td>\n",
       "      <td>NaN</td>\n",
       "      <td>IR1</td>\n",
       "      <td>Lvl</td>\n",
       "      <td>...</td>\n",
       "      <td>0</td>\n",
       "      <td>0</td>\n",
       "      <td>NaN</td>\n",
       "      <td>NaN</td>\n",
       "      <td>NaN</td>\n",
       "      <td>0</td>\n",
       "      <td>4</td>\n",
       "      <td>2009</td>\n",
       "      <td>WD</td>\n",
       "      <td>220000</td>\n",
       "    </tr>\n",
       "    <tr>\n",
       "      <th>2</th>\n",
       "      <td>153</td>\n",
       "      <td>535304180</td>\n",
       "      <td>20</td>\n",
       "      <td>RL</td>\n",
       "      <td>68.0</td>\n",
       "      <td>7922</td>\n",
       "      <td>Pave</td>\n",
       "      <td>NaN</td>\n",
       "      <td>Reg</td>\n",
       "      <td>Lvl</td>\n",
       "      <td>...</td>\n",
       "      <td>0</td>\n",
       "      <td>0</td>\n",
       "      <td>NaN</td>\n",
       "      <td>NaN</td>\n",
       "      <td>NaN</td>\n",
       "      <td>0</td>\n",
       "      <td>1</td>\n",
       "      <td>2010</td>\n",
       "      <td>WD</td>\n",
       "      <td>109000</td>\n",
       "    </tr>\n",
       "    <tr>\n",
       "      <th>3</th>\n",
       "      <td>318</td>\n",
       "      <td>916386060</td>\n",
       "      <td>60</td>\n",
       "      <td>RL</td>\n",
       "      <td>73.0</td>\n",
       "      <td>9802</td>\n",
       "      <td>Pave</td>\n",
       "      <td>NaN</td>\n",
       "      <td>Reg</td>\n",
       "      <td>Lvl</td>\n",
       "      <td>...</td>\n",
       "      <td>0</td>\n",
       "      <td>0</td>\n",
       "      <td>NaN</td>\n",
       "      <td>NaN</td>\n",
       "      <td>NaN</td>\n",
       "      <td>0</td>\n",
       "      <td>4</td>\n",
       "      <td>2010</td>\n",
       "      <td>WD</td>\n",
       "      <td>174000</td>\n",
       "    </tr>\n",
       "    <tr>\n",
       "      <th>4</th>\n",
       "      <td>255</td>\n",
       "      <td>906425045</td>\n",
       "      <td>50</td>\n",
       "      <td>RL</td>\n",
       "      <td>82.0</td>\n",
       "      <td>14235</td>\n",
       "      <td>Pave</td>\n",
       "      <td>NaN</td>\n",
       "      <td>IR1</td>\n",
       "      <td>Lvl</td>\n",
       "      <td>...</td>\n",
       "      <td>0</td>\n",
       "      <td>0</td>\n",
       "      <td>NaN</td>\n",
       "      <td>NaN</td>\n",
       "      <td>NaN</td>\n",
       "      <td>0</td>\n",
       "      <td>3</td>\n",
       "      <td>2010</td>\n",
       "      <td>WD</td>\n",
       "      <td>138500</td>\n",
       "    </tr>\n",
       "    <tr>\n",
       "      <th>5</th>\n",
       "      <td>138</td>\n",
       "      <td>535126040</td>\n",
       "      <td>20</td>\n",
       "      <td>RL</td>\n",
       "      <td>137.0</td>\n",
       "      <td>16492</td>\n",
       "      <td>Pave</td>\n",
       "      <td>NaN</td>\n",
       "      <td>IR1</td>\n",
       "      <td>Lvl</td>\n",
       "      <td>...</td>\n",
       "      <td>0</td>\n",
       "      <td>0</td>\n",
       "      <td>NaN</td>\n",
       "      <td>NaN</td>\n",
       "      <td>NaN</td>\n",
       "      <td>0</td>\n",
       "      <td>6</td>\n",
       "      <td>2010</td>\n",
       "      <td>WD</td>\n",
       "      <td>190000</td>\n",
       "    </tr>\n",
       "    <tr>\n",
       "      <th>6</th>\n",
       "      <td>2827</td>\n",
       "      <td>908186070</td>\n",
       "      <td>180</td>\n",
       "      <td>RM</td>\n",
       "      <td>35.0</td>\n",
       "      <td>3675</td>\n",
       "      <td>Pave</td>\n",
       "      <td>NaN</td>\n",
       "      <td>Reg</td>\n",
       "      <td>Lvl</td>\n",
       "      <td>...</td>\n",
       "      <td>0</td>\n",
       "      <td>0</td>\n",
       "      <td>NaN</td>\n",
       "      <td>NaN</td>\n",
       "      <td>NaN</td>\n",
       "      <td>0</td>\n",
       "      <td>6</td>\n",
       "      <td>2006</td>\n",
       "      <td>New</td>\n",
       "      <td>140000</td>\n",
       "    </tr>\n",
       "    <tr>\n",
       "      <th>7</th>\n",
       "      <td>145</td>\n",
       "      <td>535154050</td>\n",
       "      <td>20</td>\n",
       "      <td>RL</td>\n",
       "      <td>NaN</td>\n",
       "      <td>12160</td>\n",
       "      <td>Pave</td>\n",
       "      <td>NaN</td>\n",
       "      <td>IR1</td>\n",
       "      <td>Lvl</td>\n",
       "      <td>...</td>\n",
       "      <td>0</td>\n",
       "      <td>0</td>\n",
       "      <td>NaN</td>\n",
       "      <td>MnPrv</td>\n",
       "      <td>NaN</td>\n",
       "      <td>0</td>\n",
       "      <td>5</td>\n",
       "      <td>2010</td>\n",
       "      <td>COD</td>\n",
       "      <td>142000</td>\n",
       "    </tr>\n",
       "    <tr>\n",
       "      <th>8</th>\n",
       "      <td>1942</td>\n",
       "      <td>535353130</td>\n",
       "      <td>20</td>\n",
       "      <td>RL</td>\n",
       "      <td>NaN</td>\n",
       "      <td>15783</td>\n",
       "      <td>Pave</td>\n",
       "      <td>NaN</td>\n",
       "      <td>Reg</td>\n",
       "      <td>Lvl</td>\n",
       "      <td>...</td>\n",
       "      <td>0</td>\n",
       "      <td>0</td>\n",
       "      <td>NaN</td>\n",
       "      <td>MnPrv</td>\n",
       "      <td>Shed</td>\n",
       "      <td>400</td>\n",
       "      <td>6</td>\n",
       "      <td>2007</td>\n",
       "      <td>WD</td>\n",
       "      <td>112500</td>\n",
       "    </tr>\n",
       "    <tr>\n",
       "      <th>9</th>\n",
       "      <td>1956</td>\n",
       "      <td>535426130</td>\n",
       "      <td>60</td>\n",
       "      <td>RL</td>\n",
       "      <td>70.0</td>\n",
       "      <td>11606</td>\n",
       "      <td>Pave</td>\n",
       "      <td>NaN</td>\n",
       "      <td>IR1</td>\n",
       "      <td>HLS</td>\n",
       "      <td>...</td>\n",
       "      <td>0</td>\n",
       "      <td>0</td>\n",
       "      <td>NaN</td>\n",
       "      <td>NaN</td>\n",
       "      <td>NaN</td>\n",
       "      <td>0</td>\n",
       "      <td>9</td>\n",
       "      <td>2007</td>\n",
       "      <td>WD</td>\n",
       "      <td>135000</td>\n",
       "    </tr>\n",
       "  </tbody>\n",
       "</table>\n",
       "<p>10 rows × 81 columns</p>\n",
       "</div>"
      ],
      "text/plain": [
       "     Id        PID  MS SubClass MS Zoning  Lot Frontage  Lot Area Street  \\\n",
       "0   109  533352170           60        RL           NaN     13517   Pave   \n",
       "1   544  531379050           60        RL          43.0     11492   Pave   \n",
       "2   153  535304180           20        RL          68.0      7922   Pave   \n",
       "3   318  916386060           60        RL          73.0      9802   Pave   \n",
       "4   255  906425045           50        RL          82.0     14235   Pave   \n",
       "5   138  535126040           20        RL         137.0     16492   Pave   \n",
       "6  2827  908186070          180        RM          35.0      3675   Pave   \n",
       "7   145  535154050           20        RL           NaN     12160   Pave   \n",
       "8  1942  535353130           20        RL           NaN     15783   Pave   \n",
       "9  1956  535426130           60        RL          70.0     11606   Pave   \n",
       "\n",
       "  Alley Lot Shape Land Contour  ... Screen Porch Pool Area Pool QC  Fence  \\\n",
       "0   NaN       IR1          Lvl  ...            0         0     NaN    NaN   \n",
       "1   NaN       IR1          Lvl  ...            0         0     NaN    NaN   \n",
       "2   NaN       Reg          Lvl  ...            0         0     NaN    NaN   \n",
       "3   NaN       Reg          Lvl  ...            0         0     NaN    NaN   \n",
       "4   NaN       IR1          Lvl  ...            0         0     NaN    NaN   \n",
       "5   NaN       IR1          Lvl  ...            0         0     NaN    NaN   \n",
       "6   NaN       Reg          Lvl  ...            0         0     NaN    NaN   \n",
       "7   NaN       IR1          Lvl  ...            0         0     NaN  MnPrv   \n",
       "8   NaN       Reg          Lvl  ...            0         0     NaN  MnPrv   \n",
       "9   NaN       IR1          HLS  ...            0         0     NaN    NaN   \n",
       "\n",
       "  Misc Feature Misc Val Mo Sold Yr Sold  Sale Type  SalePrice  \n",
       "0          NaN        0       3    2010        WD      130500  \n",
       "1          NaN        0       4    2009        WD      220000  \n",
       "2          NaN        0       1    2010        WD      109000  \n",
       "3          NaN        0       4    2010        WD      174000  \n",
       "4          NaN        0       3    2010        WD      138500  \n",
       "5          NaN        0       6    2010        WD      190000  \n",
       "6          NaN        0       6    2006        New     140000  \n",
       "7          NaN        0       5    2010        COD     142000  \n",
       "8         Shed      400       6    2007        WD      112500  \n",
       "9          NaN        0       9    2007        WD      135000  \n",
       "\n",
       "[10 rows x 81 columns]"
      ]
     },
     "execution_count": 4,
     "metadata": {},
     "output_type": "execute_result"
    }
   ],
   "source": [
    "#Code:\n",
    "#return first 10 values of train.csv\n",
    "train.head(n=10)"
   ]
  },
  {
   "cell_type": "code",
   "execution_count": 5,
   "metadata": {},
   "outputs": [
    {
     "data": {
      "text/html": [
       "<div>\n",
       "<style scoped>\n",
       "    .dataframe tbody tr th:only-of-type {\n",
       "        vertical-align: middle;\n",
       "    }\n",
       "\n",
       "    .dataframe tbody tr th {\n",
       "        vertical-align: top;\n",
       "    }\n",
       "\n",
       "    .dataframe thead th {\n",
       "        text-align: right;\n",
       "    }\n",
       "</style>\n",
       "<table border=\"1\" class=\"dataframe\">\n",
       "  <thead>\n",
       "    <tr style=\"text-align: right;\">\n",
       "      <th></th>\n",
       "      <th>Id</th>\n",
       "      <th>PID</th>\n",
       "      <th>MS SubClass</th>\n",
       "      <th>MS Zoning</th>\n",
       "      <th>Lot Frontage</th>\n",
       "      <th>Lot Area</th>\n",
       "      <th>Street</th>\n",
       "      <th>Alley</th>\n",
       "      <th>Lot Shape</th>\n",
       "      <th>Land Contour</th>\n",
       "      <th>...</th>\n",
       "      <th>3Ssn Porch</th>\n",
       "      <th>Screen Porch</th>\n",
       "      <th>Pool Area</th>\n",
       "      <th>Pool QC</th>\n",
       "      <th>Fence</th>\n",
       "      <th>Misc Feature</th>\n",
       "      <th>Misc Val</th>\n",
       "      <th>Mo Sold</th>\n",
       "      <th>Yr Sold</th>\n",
       "      <th>Sale Type</th>\n",
       "    </tr>\n",
       "  </thead>\n",
       "  <tbody>\n",
       "    <tr>\n",
       "      <th>0</th>\n",
       "      <td>2658</td>\n",
       "      <td>902301120</td>\n",
       "      <td>190</td>\n",
       "      <td>RM</td>\n",
       "      <td>69.0</td>\n",
       "      <td>9142</td>\n",
       "      <td>Pave</td>\n",
       "      <td>Grvl</td>\n",
       "      <td>Reg</td>\n",
       "      <td>Lvl</td>\n",
       "      <td>...</td>\n",
       "      <td>0</td>\n",
       "      <td>0</td>\n",
       "      <td>0</td>\n",
       "      <td>NaN</td>\n",
       "      <td>NaN</td>\n",
       "      <td>NaN</td>\n",
       "      <td>0</td>\n",
       "      <td>4</td>\n",
       "      <td>2006</td>\n",
       "      <td>WD</td>\n",
       "    </tr>\n",
       "    <tr>\n",
       "      <th>1</th>\n",
       "      <td>2718</td>\n",
       "      <td>905108090</td>\n",
       "      <td>90</td>\n",
       "      <td>RL</td>\n",
       "      <td>NaN</td>\n",
       "      <td>9662</td>\n",
       "      <td>Pave</td>\n",
       "      <td>NaN</td>\n",
       "      <td>IR1</td>\n",
       "      <td>Lvl</td>\n",
       "      <td>...</td>\n",
       "      <td>0</td>\n",
       "      <td>0</td>\n",
       "      <td>0</td>\n",
       "      <td>NaN</td>\n",
       "      <td>NaN</td>\n",
       "      <td>NaN</td>\n",
       "      <td>0</td>\n",
       "      <td>8</td>\n",
       "      <td>2006</td>\n",
       "      <td>WD</td>\n",
       "    </tr>\n",
       "    <tr>\n",
       "      <th>2</th>\n",
       "      <td>2414</td>\n",
       "      <td>528218130</td>\n",
       "      <td>60</td>\n",
       "      <td>RL</td>\n",
       "      <td>58.0</td>\n",
       "      <td>17104</td>\n",
       "      <td>Pave</td>\n",
       "      <td>NaN</td>\n",
       "      <td>IR1</td>\n",
       "      <td>Lvl</td>\n",
       "      <td>...</td>\n",
       "      <td>0</td>\n",
       "      <td>0</td>\n",
       "      <td>0</td>\n",
       "      <td>NaN</td>\n",
       "      <td>NaN</td>\n",
       "      <td>NaN</td>\n",
       "      <td>0</td>\n",
       "      <td>9</td>\n",
       "      <td>2006</td>\n",
       "      <td>New</td>\n",
       "    </tr>\n",
       "    <tr>\n",
       "      <th>3</th>\n",
       "      <td>1989</td>\n",
       "      <td>902207150</td>\n",
       "      <td>30</td>\n",
       "      <td>RM</td>\n",
       "      <td>60.0</td>\n",
       "      <td>8520</td>\n",
       "      <td>Pave</td>\n",
       "      <td>NaN</td>\n",
       "      <td>Reg</td>\n",
       "      <td>Lvl</td>\n",
       "      <td>...</td>\n",
       "      <td>0</td>\n",
       "      <td>0</td>\n",
       "      <td>0</td>\n",
       "      <td>NaN</td>\n",
       "      <td>NaN</td>\n",
       "      <td>NaN</td>\n",
       "      <td>0</td>\n",
       "      <td>7</td>\n",
       "      <td>2007</td>\n",
       "      <td>WD</td>\n",
       "    </tr>\n",
       "    <tr>\n",
       "      <th>4</th>\n",
       "      <td>625</td>\n",
       "      <td>535105100</td>\n",
       "      <td>20</td>\n",
       "      <td>RL</td>\n",
       "      <td>NaN</td>\n",
       "      <td>9500</td>\n",
       "      <td>Pave</td>\n",
       "      <td>NaN</td>\n",
       "      <td>IR1</td>\n",
       "      <td>Lvl</td>\n",
       "      <td>...</td>\n",
       "      <td>0</td>\n",
       "      <td>185</td>\n",
       "      <td>0</td>\n",
       "      <td>NaN</td>\n",
       "      <td>NaN</td>\n",
       "      <td>NaN</td>\n",
       "      <td>0</td>\n",
       "      <td>7</td>\n",
       "      <td>2009</td>\n",
       "      <td>WD</td>\n",
       "    </tr>\n",
       "  </tbody>\n",
       "</table>\n",
       "<p>5 rows × 80 columns</p>\n",
       "</div>"
      ],
      "text/plain": [
       "     Id        PID  MS SubClass MS Zoning  Lot Frontage  Lot Area Street  \\\n",
       "0  2658  902301120          190        RM          69.0      9142   Pave   \n",
       "1  2718  905108090           90        RL           NaN      9662   Pave   \n",
       "2  2414  528218130           60        RL          58.0     17104   Pave   \n",
       "3  1989  902207150           30        RM          60.0      8520   Pave   \n",
       "4   625  535105100           20        RL           NaN      9500   Pave   \n",
       "\n",
       "  Alley Lot Shape Land Contour  ... 3Ssn Porch Screen Porch Pool Area Pool QC  \\\n",
       "0  Grvl       Reg          Lvl  ...          0            0         0     NaN   \n",
       "1   NaN       IR1          Lvl  ...          0            0         0     NaN   \n",
       "2   NaN       IR1          Lvl  ...          0            0         0     NaN   \n",
       "3   NaN       Reg          Lvl  ...          0            0         0     NaN   \n",
       "4   NaN       IR1          Lvl  ...          0          185         0     NaN   \n",
       "\n",
       "  Fence Misc Feature Misc Val Mo Sold  Yr Sold  Sale Type  \n",
       "0   NaN          NaN        0       4     2006        WD   \n",
       "1   NaN          NaN        0       8     2006        WD   \n",
       "2   NaN          NaN        0       9     2006        New  \n",
       "3   NaN          NaN        0       7     2007        WD   \n",
       "4   NaN          NaN        0       7     2009        WD   \n",
       "\n",
       "[5 rows x 80 columns]"
      ]
     },
     "execution_count": 5,
     "metadata": {},
     "output_type": "execute_result"
    }
   ],
   "source": [
    "#check first 5 values of test.csv\n",
    "test.head()"
   ]
  },
  {
   "cell_type": "code",
   "execution_count": 6,
   "metadata": {},
   "outputs": [
    {
     "data": {
      "text/plain": [
       "(2051, 81)"
      ]
     },
     "execution_count": 6,
     "metadata": {},
     "output_type": "execute_result"
    }
   ],
   "source": [
    "#find the shape (rows, columns) of the train dataset\n",
    "train.shape"
   ]
  },
  {
   "cell_type": "code",
   "execution_count": 7,
   "metadata": {},
   "outputs": [
    {
     "data": {
      "text/plain": [
       "(879, 80)"
      ]
     },
     "execution_count": 7,
     "metadata": {},
     "output_type": "execute_result"
    }
   ],
   "source": [
    "#find the shape (rows, columns) of the test dataset\n",
    "test.shape\n",
    "# Note that train has one more column then test.  This is due to the 'SalePrice' column"
   ]
  },
  {
   "cell_type": "code",
   "execution_count": 8,
   "metadata": {},
   "outputs": [
    {
     "data": {
      "text/plain": [
       "9822"
      ]
     },
     "execution_count": 8,
     "metadata": {},
     "output_type": "execute_result"
    }
   ],
   "source": [
    "#count how many null values overall in the dataframe\n",
    "train.isnull().sum().sum()"
   ]
  },
  {
   "cell_type": "code",
   "execution_count": 9,
   "metadata": {},
   "outputs": [
    {
     "data": {
      "text/plain": [
       "4175"
      ]
     },
     "execution_count": 9,
     "metadata": {},
     "output_type": "execute_result"
    }
   ],
   "source": [
    "#count how many null values overall in the dataframe\n",
    "test.isnull().sum().sum()"
   ]
  },
  {
   "cell_type": "code",
   "execution_count": 10,
   "metadata": {},
   "outputs": [],
   "source": [
    "#replace columns where NA values are represented as something specific with that value\n",
    "# these were explicitly specified by the document AmesHousing.txt that we were provided\n",
    "train['Alley'].fillna('No Alley', inplace=True)\n",
    "train['Bsmt Qual'].fillna('No Basement', inplace=True)\n",
    "train['Bsmt Cond'].fillna('No Basement', inplace=True)\n",
    "train['Bsmt Exposure'].fillna('No Basement', inplace=True)\n",
    "train['BsmtFin Type 1'].fillna('No Basement', inplace=True)\n",
    "train['BsmtFin Type 2'].fillna('No Basement', inplace=True)\n",
    "train['Fireplace Qu'].fillna('No Fireplace', inplace=True)\n",
    "train['Garage Type'].fillna('No Garage', inplace=True)\n",
    "train['Garage Finish'].fillna('No Garage', inplace=True)\n",
    "train['Garage Qual'].fillna('No Garage', inplace=True)\n",
    "train['Garage Cond'].fillna('No Garage', inplace=True)\n",
    "train['Pool QC'].fillna('No Pool', inplace=True)\n",
    "train['Fence'].fillna('No Fence', inplace=True)\n",
    "train['Misc Feature'].fillna('None', inplace=True)\n"
   ]
  },
  {
   "cell_type": "code",
   "execution_count": 11,
   "metadata": {},
   "outputs": [
    {
     "data": {
      "text/plain": [
       "498"
      ]
     },
     "execution_count": 11,
     "metadata": {},
     "output_type": "execute_result"
    }
   ],
   "source": [
    "#see where null values are.  Notice how the bulk of have them dropped\n",
    "train.isnull().sum().sum()"
   ]
  },
  {
   "cell_type": "code",
   "execution_count": 12,
   "metadata": {},
   "outputs": [],
   "source": [
    "#in test: replace columns where NA values are represented as something specific with that value\n",
    "# do this to match what we did to the train Dataframe\n",
    "test['Alley'].fillna('No Alley', inplace=True)\n",
    "test['Bsmt Qual'].fillna('No Basement', inplace=True)\n",
    "test['Bsmt Cond'].fillna('No Basement', inplace=True)\n",
    "test['Bsmt Exposure'].fillna('No Basement', inplace=True)\n",
    "test['BsmtFin Type 1'].fillna('No Basement', inplace=True)\n",
    "test['BsmtFin Type 2'].fillna('No Basement', inplace=True)\n",
    "test['Fireplace Qu'].fillna('No Fireplace', inplace=True)\n",
    "test['Garage Type'].fillna('No Garage', inplace=True)\n",
    "test['Garage Finish'].fillna('No Garage', inplace=True)\n",
    "test['Garage Qual'].fillna('No Garage', inplace=True)\n",
    "test['Garage Cond'].fillna('No Garage', inplace=True)\n",
    "test['Pool QC'].fillna('No Pool', inplace=True)\n",
    "test['Fence'].fillna('No Fence', inplace=True)\n",
    "test['Misc Feature'].fillna('None', inplace=True)\n"
   ]
  },
  {
   "cell_type": "code",
   "execution_count": 13,
   "metadata": {},
   "outputs": [
    {
     "data": {
      "text/plain": [
       "208"
      ]
     },
     "execution_count": 13,
     "metadata": {},
     "output_type": "execute_result"
    }
   ],
   "source": [
    "#see where null values are.  Notice how the bulk of have them dropped\n",
    "test.isnull().sum().sum()"
   ]
  },
  {
   "cell_type": "code",
   "execution_count": 14,
   "metadata": {},
   "outputs": [],
   "source": [
    "#replace columns where there are no values for a feature because house doesnt have said feature with 0\n",
    "# we know already from the document AmesHousing.txt that we were provided that a lot of these houses \n",
    "# had no basement, no garage, no pool.  \n",
    "\n",
    "train['BsmtFin SF 1'].fillna(0, inplace=True)\n",
    "train['BsmtFin SF 2'].fillna(0, inplace=True)\n",
    "train['Bsmt Unf SF'].fillna(0, inplace=True)\n",
    "train['Total Bsmt SF'].fillna(0, inplace=True)\n",
    "train['Bsmt Full Bath'].fillna(0, inplace=True)\n",
    "train['Bsmt Half Bath'].fillna(0, inplace=True)\n",
    "\n",
    "train['Garage Yr Blt'].fillna(0, inplace=True)\n",
    "train['Garage Cars'].fillna(0, inplace=True)\n",
    "train['Garage Area'].fillna(0, inplace=True)\n",
    "\n",
    "\n",
    "train['Pool Area'].fillna(0, inplace=True)"
   ]
  },
  {
   "cell_type": "code",
   "execution_count": 15,
   "metadata": {},
   "outputs": [
    {
     "data": {
      "text/plain": [
       "374"
      ]
     },
     "execution_count": 15,
     "metadata": {},
     "output_type": "execute_result"
    }
   ],
   "source": [
    "#see where null values are.  Notice how many more have dropped\n",
    "train.isnull().sum().sum()"
   ]
  },
  {
   "cell_type": "code",
   "execution_count": 16,
   "metadata": {},
   "outputs": [],
   "source": [
    "#in test: replace columns where there are no values for a feature because house doesnt have said feature with 0\n",
    "# do this to match what we did to the train Dataframe\n",
    "\n",
    "test['BsmtFin SF 1'].fillna(0, inplace=True)\n",
    "test['BsmtFin SF 2'].fillna(0, inplace=True)\n",
    "test['Bsmt Unf SF'].fillna(0, inplace=True)\n",
    "test['Total Bsmt SF'].fillna(0, inplace=True)\n",
    "test['Bsmt Full Bath'].fillna(0, inplace=True)\n",
    "test['Bsmt Half Bath'].fillna(0, inplace=True)\n",
    "\n",
    "test['Garage Yr Blt'].fillna(0, inplace=True)\n",
    "test['Garage Cars'].fillna(0, inplace=True)\n",
    "test['Garage Area'].fillna(0, inplace=True)\n",
    "\n",
    "\n",
    "test['Pool Area'].fillna(0, inplace=True)"
   ]
  },
  {
   "cell_type": "code",
   "execution_count": 17,
   "metadata": {},
   "outputs": [
    {
     "data": {
      "text/plain": [
       "163"
      ]
     },
     "execution_count": 17,
     "metadata": {},
     "output_type": "execute_result"
    }
   ],
   "source": [
    "#see where null values are.  Notice how many more have dropped\n",
    "test.isnull().sum().sum()"
   ]
  },
  {
   "cell_type": "code",
   "execution_count": 18,
   "metadata": {},
   "outputs": [
    {
     "data": {
      "text/plain": [
       "Id                  0\n",
       "PID                 0\n",
       "MS SubClass         0\n",
       "MS Zoning           0\n",
       "Lot Frontage      330\n",
       "Lot Area            0\n",
       "Street              0\n",
       "Alley               0\n",
       "Lot Shape           0\n",
       "Land Contour        0\n",
       "Utilities           0\n",
       "Lot Config          0\n",
       "Land Slope          0\n",
       "Neighborhood        0\n",
       "Condition 1         0\n",
       "Condition 2         0\n",
       "Bldg Type           0\n",
       "House Style         0\n",
       "Overall Qual        0\n",
       "Overall Cond        0\n",
       "Year Built          0\n",
       "Year Remod/Add      0\n",
       "Roof Style          0\n",
       "Roof Matl           0\n",
       "Exterior 1st        0\n",
       "Exterior 2nd        0\n",
       "Mas Vnr Type       22\n",
       "Mas Vnr Area       22\n",
       "Exter Qual          0\n",
       "Exter Cond          0\n",
       "                 ... \n",
       "Half Bath           0\n",
       "Bedroom AbvGr       0\n",
       "Kitchen AbvGr       0\n",
       "Kitchen Qual        0\n",
       "TotRms AbvGrd       0\n",
       "Functional          0\n",
       "Fireplaces          0\n",
       "Fireplace Qu        0\n",
       "Garage Type         0\n",
       "Garage Yr Blt       0\n",
       "Garage Finish       0\n",
       "Garage Cars         0\n",
       "Garage Area         0\n",
       "Garage Qual         0\n",
       "Garage Cond         0\n",
       "Paved Drive         0\n",
       "Wood Deck SF        0\n",
       "Open Porch SF       0\n",
       "Enclosed Porch      0\n",
       "3Ssn Porch          0\n",
       "Screen Porch        0\n",
       "Pool Area           0\n",
       "Pool QC             0\n",
       "Fence               0\n",
       "Misc Feature        0\n",
       "Misc Val            0\n",
       "Mo Sold             0\n",
       "Yr Sold             0\n",
       "Sale Type           0\n",
       "SalePrice           0\n",
       "Length: 81, dtype: int64"
      ]
     },
     "execution_count": 18,
     "metadata": {},
     "output_type": "execute_result"
    }
   ],
   "source": [
    "# Notice that the last 374 null values in train are in 3 columns: 'Lot Frontage', 'Mas Vnr Type', and 'Mas Vnr Area'\n",
    "train.isnull().sum()"
   ]
  },
  {
   "cell_type": "code",
   "execution_count": 19,
   "metadata": {},
   "outputs": [
    {
     "data": {
      "text/plain": [
       "22"
      ]
     },
     "execution_count": 19,
     "metadata": {},
     "output_type": "execute_result"
    }
   ],
   "source": [
    "# check how many cells in the 'Mas Vnr Type' are null\n",
    "train['Mas Vnr Type'].isnull().sum()"
   ]
  },
  {
   "cell_type": "code",
   "execution_count": 20,
   "metadata": {},
   "outputs": [
    {
     "data": {
      "text/plain": [
       "22"
      ]
     },
     "execution_count": 20,
     "metadata": {},
     "output_type": "execute_result"
    }
   ],
   "source": [
    "# check how many cells in the 'Mas Vnr Area' are null\n",
    "train['Mas Vnr Area'].isnull().sum()"
   ]
  },
  {
   "cell_type": "code",
   "execution_count": 21,
   "metadata": {},
   "outputs": [],
   "source": [
    "# it doesn't seem coincidental that there are the exact same amount of houses with null Mason Veneer types\n",
    "# as there are houses with null Mass veneer areas.  I replaced the the type values with 'None' and the\n",
    "# area values with 0\n",
    "train['Mas Vnr Type'].fillna('None', inplace=True)\n",
    "train['Mas Vnr Area'].fillna(0, inplace=True)"
   ]
  },
  {
   "cell_type": "code",
   "execution_count": 22,
   "metadata": {},
   "outputs": [
    {
     "data": {
      "text/plain": [
       "330"
      ]
     },
     "execution_count": 22,
     "metadata": {},
     "output_type": "execute_result"
    }
   ],
   "source": [
    "#see where null values are\n",
    "train.isnull().sum().sum()"
   ]
  },
  {
   "cell_type": "code",
   "execution_count": 23,
   "metadata": {},
   "outputs": [],
   "source": [
    "# in test: replace the the type values with 'None' and the\n",
    "# area values with 0\n",
    "# do this in test dataframe to match what we did to the train Dataframe\n",
    "\n",
    "test['Mas Vnr Type'].fillna('None', inplace=True)\n",
    "test['Mas Vnr Area'].fillna(0, inplace=True)"
   ]
  },
  {
   "cell_type": "code",
   "execution_count": 24,
   "metadata": {},
   "outputs": [
    {
     "data": {
      "text/plain": [
       "161"
      ]
     },
     "execution_count": 24,
     "metadata": {},
     "output_type": "execute_result"
    }
   ],
   "source": [
    "#see where null values are\n",
    "test.isnull().sum().sum()"
   ]
  },
  {
   "cell_type": "code",
   "execution_count": 25,
   "metadata": {},
   "outputs": [
    {
     "data": {
      "text/plain": [
       "330"
      ]
     },
     "execution_count": 25,
     "metadata": {},
     "output_type": "execute_result"
    }
   ],
   "source": [
    "#notice that, in train there are the same amount of total null values as the amount of null values in Lot Frontage\n",
    "train['Lot Frontage'].isnull().sum()"
   ]
  },
  {
   "cell_type": "code",
   "execution_count": 26,
   "metadata": {},
   "outputs": [],
   "source": [
    "# I was't certain, but I decided to fill in all the null values for 'Lot Frontage' with 0\n",
    "# it was less harmful to the data then dropping the whole column, or dropping 330 entire rows\n",
    "train['Lot Frontage'].fillna(0, inplace=True)\n"
   ]
  },
  {
   "cell_type": "code",
   "execution_count": 27,
   "metadata": {},
   "outputs": [
    {
     "data": {
      "text/plain": [
       "0"
      ]
     },
     "execution_count": 27,
     "metadata": {},
     "output_type": "execute_result"
    }
   ],
   "source": [
    "#see where null values are\n",
    "train.isnull().sum().sum()\n",
    "#zero left in our train file!"
   ]
  },
  {
   "cell_type": "code",
   "execution_count": 28,
   "metadata": {},
   "outputs": [],
   "source": [
    "# fill in all the null values for 'Lot Frontage' with 0 for the test dataframe to match the train df\n",
    "test['Lot Frontage'].fillna(0, inplace=True)\n"
   ]
  },
  {
   "cell_type": "code",
   "execution_count": 29,
   "metadata": {},
   "outputs": [
    {
     "data": {
      "text/plain": [
       "1"
      ]
     },
     "execution_count": 29,
     "metadata": {},
     "output_type": "execute_result"
    }
   ],
   "source": [
    "#see where null values are\n",
    "test.isnull().sum().sum()\n",
    "# hmm still one left in our test file tho..."
   ]
  },
  {
   "cell_type": "code",
   "execution_count": 30,
   "metadata": {},
   "outputs": [
    {
     "data": {
      "text/plain": [
       "'Electrical'"
      ]
     },
     "execution_count": 30,
     "metadata": {},
     "output_type": "execute_result"
    }
   ],
   "source": [
    "list(test.isnull())[43]\n",
    "#there is a null value in the Electrical column"
   ]
  },
  {
   "cell_type": "code",
   "execution_count": 31,
   "metadata": {},
   "outputs": [],
   "source": [
    "# in test: replace the the type values with 'None' .  It's only one entry anyways\n",
    "test['Electrical'].fillna('None', inplace=True)"
   ]
  },
  {
   "cell_type": "code",
   "execution_count": 32,
   "metadata": {},
   "outputs": [
    {
     "data": {
      "text/plain": [
       "0"
      ]
     },
     "execution_count": 32,
     "metadata": {},
     "output_type": "execute_result"
    }
   ],
   "source": [
    "#see where null values are.  All gone!\n",
    "test.isnull().sum().sum()"
   ]
  },
  {
   "cell_type": "markdown",
   "metadata": {},
   "source": [
    "### The \"MS SubClass\" values are listed as integers, when they should be nominal (see [Ames Housing .txt file](http://jse.amstat.org/v19n3/decock/DataDocumentation.txt)).  I fixed this by setting each numerical value for the nominal interpretation as a string (i.e. 020 = '020', 030 = '030', ... etc.."
   ]
  },
  {
   "cell_type": "code",
   "execution_count": 33,
   "metadata": {},
   "outputs": [
    {
     "data": {
      "text/plain": [
       "numpy.int64"
      ]
     },
     "execution_count": 33,
     "metadata": {},
     "output_type": "execute_result"
    }
   ],
   "source": [
    "# The \"MS SubClass\" values are listed as integers, when they should be nominal \n",
    "#(according to the document AmesHousing.txt)\n",
    "type(train[\"MS SubClass\"][0])"
   ]
  },
  {
   "cell_type": "code",
   "execution_count": 34,
   "metadata": {},
   "outputs": [],
   "source": [
    "# I set each numerical value for the nominal interpretation as a string using .apply(str)\n",
    "train['MS SubClass'] = train['MS SubClass'].apply(str)"
   ]
  },
  {
   "cell_type": "code",
   "execution_count": 35,
   "metadata": {},
   "outputs": [
    {
     "data": {
      "text/plain": [
       "str"
      ]
     },
     "execution_count": 35,
     "metadata": {},
     "output_type": "execute_result"
    }
   ],
   "source": [
    "# check to make sure the switch from int to string worked\n",
    "type(train['MS SubClass'][0])"
   ]
  },
  {
   "cell_type": "code",
   "execution_count": 36,
   "metadata": {},
   "outputs": [],
   "source": [
    "# for the test data I also set each numerical value for the nominal interpretation as a string using .apply(str)\n",
    "test['MS SubClass'] = train['MS SubClass'].apply(str)"
   ]
  },
  {
   "cell_type": "code",
   "execution_count": 37,
   "metadata": {},
   "outputs": [
    {
     "data": {
      "text/plain": [
       "str"
      ]
     },
     "execution_count": 37,
     "metadata": {},
     "output_type": "execute_result"
    }
   ],
   "source": [
    "# check to make sure the switch from int to string worked\n",
    "type(test['MS SubClass'][0])"
   ]
  },
  {
   "cell_type": "markdown",
   "metadata": {},
   "source": [
    "# Dummy Variables"
   ]
  },
  {
   "cell_type": "markdown",
   "metadata": {},
   "source": [
    "## Get dummy variables for both the train data and the test data.  check to make sure that the list of columns is the same.  remember that they are dummy variables, so they are yes and no questions.  if one column doesn't exist in the other dataframe, all we have to do is create that column in the other dataframe and set all values to zero"
   ]
  },
  {
   "cell_type": "code",
   "execution_count": 38,
   "metadata": {},
   "outputs": [
    {
     "data": {
      "text/plain": [
       "(2051, 81)"
      ]
     },
     "execution_count": 38,
     "metadata": {},
     "output_type": "execute_result"
    }
   ],
   "source": [
    "# note that at this point the train data has 81 columns\n",
    "train.shape"
   ]
  },
  {
   "cell_type": "code",
   "execution_count": 39,
   "metadata": {},
   "outputs": [],
   "source": [
    "#take all of our non-numerical train data and turn it into dummy variables, so we can see how they correlate to price\n",
    "train = pd.get_dummies(train, drop_first=True)"
   ]
  },
  {
   "cell_type": "code",
   "execution_count": 40,
   "metadata": {},
   "outputs": [
    {
     "data": {
      "text/plain": [
       "(2051, 278)"
      ]
     },
     "execution_count": 40,
     "metadata": {},
     "output_type": "execute_result"
    }
   ],
   "source": [
    "# note that at this point the train data has jumped up 278 columns\n",
    "train.shape"
   ]
  },
  {
   "cell_type": "code",
   "execution_count": 41,
   "metadata": {},
   "outputs": [
    {
     "data": {
      "text/plain": [
       "(879, 80)"
      ]
     },
     "execution_count": 41,
     "metadata": {},
     "output_type": "execute_result"
    }
   ],
   "source": [
    "#note that before dummies variable, the test data has only one less column (SalesPrice) then the train data\n",
    "test.shape "
   ]
  },
  {
   "cell_type": "code",
   "execution_count": 42,
   "metadata": {},
   "outputs": [],
   "source": [
    "#take all of our non-numerical test data and turn it into dummy variables, just as we did with the train data\n",
    "test = pd.get_dummies(test, drop_first=True)"
   ]
  },
  {
   "cell_type": "code",
   "execution_count": 43,
   "metadata": {},
   "outputs": [
    {
     "data": {
      "text/plain": [
       "(879, 259)"
      ]
     },
     "execution_count": 43,
     "metadata": {},
     "output_type": "execute_result"
    }
   ],
   "source": [
    "#after adding dummies to both data sets, we see that train now has 264 columns and test now has 259 columns\n",
    "test.shape "
   ]
  },
  {
   "cell_type": "markdown",
   "metadata": {},
   "source": [
    "## Which neighborhoods are the best investment?"
   ]
  },
  {
   "cell_type": "code",
   "execution_count": 44,
   "metadata": {},
   "outputs": [],
   "source": [
    "# function for checking which neighborhoods are in a dataframe \n",
    "def neighborhood_list(df):\n",
    "    droplist = []\n",
    "    for col in df.columns.values.tolist():\n",
    "        if \"Neighborhood\" in col:\n",
    "            droplist.append(col)\n",
    "    return droplist"
   ]
  },
  {
   "cell_type": "code",
   "execution_count": 45,
   "metadata": {},
   "outputs": [
    {
     "data": {
      "text/plain": [
       "['Neighborhood_Blueste',\n",
       " 'Neighborhood_BrDale',\n",
       " 'Neighborhood_BrkSide',\n",
       " 'Neighborhood_ClearCr',\n",
       " 'Neighborhood_CollgCr',\n",
       " 'Neighborhood_Crawfor',\n",
       " 'Neighborhood_Edwards',\n",
       " 'Neighborhood_Gilbert',\n",
       " 'Neighborhood_Greens',\n",
       " 'Neighborhood_GrnHill',\n",
       " 'Neighborhood_IDOTRR',\n",
       " 'Neighborhood_Landmrk',\n",
       " 'Neighborhood_MeadowV',\n",
       " 'Neighborhood_Mitchel',\n",
       " 'Neighborhood_NAmes',\n",
       " 'Neighborhood_NPkVill',\n",
       " 'Neighborhood_NWAmes',\n",
       " 'Neighborhood_NoRidge',\n",
       " 'Neighborhood_NridgHt',\n",
       " 'Neighborhood_OldTown',\n",
       " 'Neighborhood_SWISU',\n",
       " 'Neighborhood_Sawyer',\n",
       " 'Neighborhood_SawyerW',\n",
       " 'Neighborhood_Somerst',\n",
       " 'Neighborhood_StoneBr',\n",
       " 'Neighborhood_Timber',\n",
       " 'Neighborhood_Veenker',\n",
       " 'SalePrice']"
      ]
     },
     "execution_count": 45,
     "metadata": {},
     "output_type": "execute_result"
    }
   ],
   "source": [
    "# see which neighborhoods are in the Train dataframe and assign this list to variable neigh\n",
    "neigh = neighborhood_list(train)\n",
    "\n",
    "# add SalesPrice back to this list because we'll need it to do the correlation\n",
    "neigh.append('SalePrice')\n",
    "\n",
    "#check list\n",
    "neigh"
   ]
  },
  {
   "cell_type": "code",
   "execution_count": 46,
   "metadata": {},
   "outputs": [
    {
     "data": {
      "text/html": [
       "<div>\n",
       "<style scoped>\n",
       "    .dataframe tbody tr th:only-of-type {\n",
       "        vertical-align: middle;\n",
       "    }\n",
       "\n",
       "    .dataframe tbody tr th {\n",
       "        vertical-align: top;\n",
       "    }\n",
       "\n",
       "    .dataframe thead th {\n",
       "        text-align: right;\n",
       "    }\n",
       "</style>\n",
       "<table border=\"1\" class=\"dataframe\">\n",
       "  <thead>\n",
       "    <tr style=\"text-align: right;\">\n",
       "      <th></th>\n",
       "      <th>Neighborhood_Blueste</th>\n",
       "      <th>Neighborhood_BrDale</th>\n",
       "      <th>Neighborhood_BrkSide</th>\n",
       "      <th>Neighborhood_ClearCr</th>\n",
       "      <th>Neighborhood_CollgCr</th>\n",
       "      <th>Neighborhood_Crawfor</th>\n",
       "      <th>Neighborhood_Edwards</th>\n",
       "      <th>Neighborhood_Gilbert</th>\n",
       "      <th>Neighborhood_Greens</th>\n",
       "      <th>Neighborhood_GrnHill</th>\n",
       "      <th>...</th>\n",
       "      <th>Neighborhood_NridgHt</th>\n",
       "      <th>Neighborhood_OldTown</th>\n",
       "      <th>Neighborhood_SWISU</th>\n",
       "      <th>Neighborhood_Sawyer</th>\n",
       "      <th>Neighborhood_SawyerW</th>\n",
       "      <th>Neighborhood_Somerst</th>\n",
       "      <th>Neighborhood_StoneBr</th>\n",
       "      <th>Neighborhood_Timber</th>\n",
       "      <th>Neighborhood_Veenker</th>\n",
       "      <th>SalePrice</th>\n",
       "    </tr>\n",
       "  </thead>\n",
       "  <tbody>\n",
       "    <tr>\n",
       "      <th>0</th>\n",
       "      <td>0</td>\n",
       "      <td>0</td>\n",
       "      <td>0</td>\n",
       "      <td>0</td>\n",
       "      <td>0</td>\n",
       "      <td>0</td>\n",
       "      <td>0</td>\n",
       "      <td>0</td>\n",
       "      <td>0</td>\n",
       "      <td>0</td>\n",
       "      <td>...</td>\n",
       "      <td>0</td>\n",
       "      <td>0</td>\n",
       "      <td>0</td>\n",
       "      <td>1</td>\n",
       "      <td>0</td>\n",
       "      <td>0</td>\n",
       "      <td>0</td>\n",
       "      <td>0</td>\n",
       "      <td>0</td>\n",
       "      <td>130500</td>\n",
       "    </tr>\n",
       "    <tr>\n",
       "      <th>1</th>\n",
       "      <td>0</td>\n",
       "      <td>0</td>\n",
       "      <td>0</td>\n",
       "      <td>0</td>\n",
       "      <td>0</td>\n",
       "      <td>0</td>\n",
       "      <td>0</td>\n",
       "      <td>0</td>\n",
       "      <td>0</td>\n",
       "      <td>0</td>\n",
       "      <td>...</td>\n",
       "      <td>0</td>\n",
       "      <td>0</td>\n",
       "      <td>0</td>\n",
       "      <td>0</td>\n",
       "      <td>1</td>\n",
       "      <td>0</td>\n",
       "      <td>0</td>\n",
       "      <td>0</td>\n",
       "      <td>0</td>\n",
       "      <td>220000</td>\n",
       "    </tr>\n",
       "    <tr>\n",
       "      <th>2</th>\n",
       "      <td>0</td>\n",
       "      <td>0</td>\n",
       "      <td>0</td>\n",
       "      <td>0</td>\n",
       "      <td>0</td>\n",
       "      <td>0</td>\n",
       "      <td>0</td>\n",
       "      <td>0</td>\n",
       "      <td>0</td>\n",
       "      <td>0</td>\n",
       "      <td>...</td>\n",
       "      <td>0</td>\n",
       "      <td>0</td>\n",
       "      <td>0</td>\n",
       "      <td>0</td>\n",
       "      <td>0</td>\n",
       "      <td>0</td>\n",
       "      <td>0</td>\n",
       "      <td>0</td>\n",
       "      <td>0</td>\n",
       "      <td>109000</td>\n",
       "    </tr>\n",
       "    <tr>\n",
       "      <th>3</th>\n",
       "      <td>0</td>\n",
       "      <td>0</td>\n",
       "      <td>0</td>\n",
       "      <td>0</td>\n",
       "      <td>0</td>\n",
       "      <td>0</td>\n",
       "      <td>0</td>\n",
       "      <td>0</td>\n",
       "      <td>0</td>\n",
       "      <td>0</td>\n",
       "      <td>...</td>\n",
       "      <td>0</td>\n",
       "      <td>0</td>\n",
       "      <td>0</td>\n",
       "      <td>0</td>\n",
       "      <td>0</td>\n",
       "      <td>0</td>\n",
       "      <td>0</td>\n",
       "      <td>1</td>\n",
       "      <td>0</td>\n",
       "      <td>174000</td>\n",
       "    </tr>\n",
       "    <tr>\n",
       "      <th>4</th>\n",
       "      <td>0</td>\n",
       "      <td>0</td>\n",
       "      <td>0</td>\n",
       "      <td>0</td>\n",
       "      <td>0</td>\n",
       "      <td>0</td>\n",
       "      <td>0</td>\n",
       "      <td>0</td>\n",
       "      <td>0</td>\n",
       "      <td>0</td>\n",
       "      <td>...</td>\n",
       "      <td>0</td>\n",
       "      <td>0</td>\n",
       "      <td>0</td>\n",
       "      <td>0</td>\n",
       "      <td>1</td>\n",
       "      <td>0</td>\n",
       "      <td>0</td>\n",
       "      <td>0</td>\n",
       "      <td>0</td>\n",
       "      <td>138500</td>\n",
       "    </tr>\n",
       "  </tbody>\n",
       "</table>\n",
       "<p>5 rows × 28 columns</p>\n",
       "</div>"
      ],
      "text/plain": [
       "   Neighborhood_Blueste  Neighborhood_BrDale  Neighborhood_BrkSide  \\\n",
       "0                     0                    0                     0   \n",
       "1                     0                    0                     0   \n",
       "2                     0                    0                     0   \n",
       "3                     0                    0                     0   \n",
       "4                     0                    0                     0   \n",
       "\n",
       "   Neighborhood_ClearCr  Neighborhood_CollgCr  Neighborhood_Crawfor  \\\n",
       "0                     0                     0                     0   \n",
       "1                     0                     0                     0   \n",
       "2                     0                     0                     0   \n",
       "3                     0                     0                     0   \n",
       "4                     0                     0                     0   \n",
       "\n",
       "   Neighborhood_Edwards  Neighborhood_Gilbert  Neighborhood_Greens  \\\n",
       "0                     0                     0                    0   \n",
       "1                     0                     0                    0   \n",
       "2                     0                     0                    0   \n",
       "3                     0                     0                    0   \n",
       "4                     0                     0                    0   \n",
       "\n",
       "   Neighborhood_GrnHill  ...  Neighborhood_NridgHt  Neighborhood_OldTown  \\\n",
       "0                     0  ...                     0                     0   \n",
       "1                     0  ...                     0                     0   \n",
       "2                     0  ...                     0                     0   \n",
       "3                     0  ...                     0                     0   \n",
       "4                     0  ...                     0                     0   \n",
       "\n",
       "   Neighborhood_SWISU  Neighborhood_Sawyer  Neighborhood_SawyerW  \\\n",
       "0                   0                    1                     0   \n",
       "1                   0                    0                     1   \n",
       "2                   0                    0                     0   \n",
       "3                   0                    0                     0   \n",
       "4                   0                    0                     1   \n",
       "\n",
       "   Neighborhood_Somerst  Neighborhood_StoneBr  Neighborhood_Timber  \\\n",
       "0                     0                     0                    0   \n",
       "1                     0                     0                    0   \n",
       "2                     0                     0                    0   \n",
       "3                     0                     0                    1   \n",
       "4                     0                     0                    0   \n",
       "\n",
       "   Neighborhood_Veenker  SalePrice  \n",
       "0                     0     130500  \n",
       "1                     0     220000  \n",
       "2                     0     109000  \n",
       "3                     0     174000  \n",
       "4                     0     138500  \n",
       "\n",
       "[5 rows x 28 columns]"
      ]
     },
     "execution_count": 46,
     "metadata": {},
     "output_type": "execute_result"
    }
   ],
   "source": [
    "# create a dataframe that is just the neighborhood values in train data dataframe\n",
    "neigh_train = train[neigh]\n",
    "neigh_train.head()"
   ]
  },
  {
   "cell_type": "code",
   "execution_count": 47,
   "metadata": {},
   "outputs": [
    {
     "data": {
      "image/png": "[encoded data removed]",
      "text/plain": [
       "<Figure size 360x504 with 2 Axes>"
      ]
     },
     "metadata": {
      "needs_background": "light"
     },
     "output_type": "display_data"
    }
   ],
   "source": [
    "# check out the five neighborhood columns with the greatest negative correlation to SalePrice\n",
    "# In order: 'Overall Qual', 'Gr Liv Area', 'Garage Area', 'Garage Cars', 'Total Bsmt SF'\n",
    "\n",
    "#make a heatmap\n",
    "plt.figure(figsize=(5,7))\n",
    "plt.title('Neighborhoods with Greatest Positive Correlation to SalePrice') #set title\n",
    "sns.heatmap(neigh_train.corr()[['SalePrice']].sort_values('SalePrice').tail(6), cmap='coolwarm', annot=True, vmin=-1);\n",
    "#set blue for positive"
   ]
  },
  {
   "cell_type": "markdown",
   "metadata": {},
   "source": [
    "#### The neighborhoods with greatest positive correlation to SalePrice (in order)\n",
    "1.  Northridge Heights \n",
    "2.  Northridge\n",
    "3.  Stone Brook\n",
    "4.  Somerset \n",
    "5.  Timberland"
   ]
  },
  {
   "cell_type": "markdown",
   "metadata": {},
   "source": [
    "## Make sure each data set has the same columns"
   ]
  },
  {
   "cell_type": "code",
   "execution_count": 48,
   "metadata": {},
   "outputs": [
    {
     "data": {
      "text/plain": [
       "Index(['Id', 'PID', 'Lot Frontage', 'Lot Area', 'Overall Qual', 'Overall Cond',\n",
       "       'Year Built', 'Year Remod/Add', 'Mas Vnr Area', 'BsmtFin SF 1',\n",
       "       ...\n",
       "       'Misc Feature_Shed', 'Misc Feature_TenC', 'Sale Type_CWD',\n",
       "       'Sale Type_Con', 'Sale Type_ConLD', 'Sale Type_ConLI',\n",
       "       'Sale Type_ConLw', 'Sale Type_New', 'Sale Type_Oth', 'Sale Type_WD '],\n",
       "      dtype='object', length=278)"
      ]
     },
     "execution_count": 48,
     "metadata": {},
     "output_type": "execute_result"
    }
   ],
   "source": [
    "# get a list of all of the columns currently in the train dataframe\n",
    "train_features = train.columns\n",
    "\n",
    "# check this list\n",
    "train_features"
   ]
  },
  {
   "cell_type": "code",
   "execution_count": 49,
   "metadata": {},
   "outputs": [
    {
     "data": {
      "text/plain": [
       "Index(['Id', 'PID', 'Lot Frontage', 'Lot Area', 'Overall Qual', 'Overall Cond',\n",
       "       'Year Built', 'Year Remod/Add', 'Mas Vnr Area', 'BsmtFin SF 1',\n",
       "       ...\n",
       "       'Misc Feature_Shed', 'Sale Type_CWD', 'Sale Type_Con',\n",
       "       'Sale Type_ConLD', 'Sale Type_ConLI', 'Sale Type_ConLw',\n",
       "       'Sale Type_New', 'Sale Type_Oth', 'Sale Type_VWD', 'Sale Type_WD '],\n",
       "      dtype='object', length=259)"
      ]
     },
     "execution_count": 49,
     "metadata": {},
     "output_type": "execute_result"
    }
   ],
   "source": [
    "# get a list of all of the columns currently in the test dataframe\n",
    "test_features = test.columns\n",
    "\n",
    "# check this list\n",
    "test_features"
   ]
  },
  {
   "cell_type": "code",
   "execution_count": 50,
   "metadata": {},
   "outputs": [],
   "source": [
    "# function for checking if something is in one list but not another list (code by Temple Moore)\n",
    "def col_checker(df1, df2):\n",
    "    droplist = []\n",
    "    for col in df1.columns.values.tolist():\n",
    "        if col not in df2.columns.values.tolist():\n",
    "            droplist.append(col)\n",
    "    return droplist"
   ]
  },
  {
   "cell_type": "code",
   "execution_count": 51,
   "metadata": {},
   "outputs": [],
   "source": [
    "# we want to get a data frame of train without SalesPrice so we don't add SalesPrice to test\n",
    "# first create a list of all the columns currently in the train dataframe (minus 'SalePrice')\n",
    "train_features = train.columns.drop('SalePrice')\n",
    "\n",
    "# create a dataframe that is just the train data without SalePrice\n",
    "Xtrain = train[train_features]"
   ]
  },
  {
   "cell_type": "code",
   "execution_count": 52,
   "metadata": {},
   "outputs": [
    {
     "data": {
      "text/plain": [
       "['MS SubClass_150',\n",
       " 'MS Zoning_C (all)',\n",
       " 'Utilities_NoSeWa',\n",
       " 'Neighborhood_GrnHill',\n",
       " 'Neighborhood_Landmrk',\n",
       " 'Condition 2_Feedr',\n",
       " 'Condition 2_RRAe',\n",
       " 'Condition 2_RRAn',\n",
       " 'Condition 2_RRNn',\n",
       " 'Roof Matl_CompShg',\n",
       " 'Roof Matl_Membran',\n",
       " 'Exterior 1st_CBlock',\n",
       " 'Exterior 1st_ImStucc',\n",
       " 'Exterior 1st_Stone',\n",
       " 'Exterior 2nd_Stone',\n",
       " 'Bsmt Cond_Fa',\n",
       " 'Bsmt Cond_Po',\n",
       " 'Heating_OthW',\n",
       " 'Heating_Wall',\n",
       " 'Heating QC_Po',\n",
       " 'Electrical_Mix',\n",
       " 'Functional_Sal',\n",
       " 'Functional_Sev',\n",
       " 'Garage Qual_Fa',\n",
       " 'Pool QC_Fa',\n",
       " 'Pool QC_Gd',\n",
       " 'Misc Feature_Gar2',\n",
       " 'Misc Feature_TenC']"
      ]
     },
     "execution_count": 52,
     "metadata": {},
     "output_type": "execute_result"
    }
   ],
   "source": [
    "# make a list of dummy columns that are in train but not in test\n",
    "train_to_test_dummies = col_checker(Xtrain, test) #values in train but not test \n",
    "\n",
    "# check the list just made\n",
    "train_to_test_dummies"
   ]
  },
  {
   "cell_type": "code",
   "execution_count": 53,
   "metadata": {},
   "outputs": [
    {
     "data": {
      "text/plain": [
       "['Roof Matl_Metal',\n",
       " 'Roof Matl_Roll',\n",
       " 'Exterior 1st_PreCast',\n",
       " 'Exterior 2nd_Other',\n",
       " 'Exterior 2nd_PreCast',\n",
       " 'Mas Vnr Type_CBlock',\n",
       " 'Heating_GasA',\n",
       " 'Electrical_None',\n",
       " 'Kitchen Qual_Po',\n",
       " 'Sale Type_VWD']"
      ]
     },
     "execution_count": 53,
     "metadata": {},
     "output_type": "execute_result"
    }
   ],
   "source": [
    "# make a list of dummy columns that are in test but not in train\n",
    "test_to_train_dummies = col_checker(test, train) #values in test but not train\n",
    "\n",
    "# check the list just made\n",
    "test_to_train_dummies"
   ]
  },
  {
   "cell_type": "code",
   "execution_count": 54,
   "metadata": {},
   "outputs": [],
   "source": [
    "## initially I added each of the dummy columns that are in test but not in train and set them \n",
    "## all to zero (since they are yess/no and do not exist in train).\n",
    "\n",
    "## for col in test_to_train_dummies:\n",
    "##     train[col] = 0\n",
    "    \n",
    "# i found that this gave me inaccurate results, so I tried just dropping all of these columns\n",
    "# and got a better kaggle score\n",
    "train.drop(columns=train_to_test_dummies, inplace=True)\n"
   ]
  },
  {
   "cell_type": "code",
   "execution_count": 55,
   "metadata": {},
   "outputs": [],
   "source": [
    "## initially I added each of the dummy columns that are in train but not in test and set them \n",
    "## all to zero (since they are yess/no and do not exist in test).\n",
    "\n",
    "# for col in train_to_test_dummies:\n",
    "#     test[col] = 0\n",
    "    \n",
    "    \n",
    "# i found that this gave me inaccurate results, so I tried just dropping all of these columns\n",
    "# and got a better kaggle score\n",
    "test.drop(columns=test_to_train_dummies, inplace=True)\n"
   ]
  },
  {
   "cell_type": "code",
   "execution_count": 56,
   "metadata": {},
   "outputs": [
    {
     "data": {
      "text/plain": [
       "Index(['Id', 'PID', 'Lot Frontage', 'Lot Area', 'Overall Qual', 'Overall Cond',\n",
       "       'Year Built', 'Year Remod/Add', 'Mas Vnr Area', 'BsmtFin SF 1',\n",
       "       ...\n",
       "       'Misc Feature_Othr', 'Misc Feature_Shed', 'Sale Type_CWD',\n",
       "       'Sale Type_Con', 'Sale Type_ConLD', 'Sale Type_ConLI',\n",
       "       'Sale Type_ConLw', 'Sale Type_New', 'Sale Type_Oth', 'Sale Type_WD '],\n",
       "      dtype='object', length=250)"
      ]
     },
     "execution_count": 56,
     "metadata": {},
     "output_type": "execute_result"
    }
   ],
   "source": [
    "# check the columns in the train dataframe.  notice that there are now 236\n",
    "train.columns"
   ]
  },
  {
   "cell_type": "code",
   "execution_count": 57,
   "metadata": {},
   "outputs": [
    {
     "data": {
      "text/plain": [
       "Index(['Id', 'PID', 'Lot Frontage', 'Lot Area', 'Overall Qual', 'Overall Cond',\n",
       "       'Year Built', 'Year Remod/Add', 'Mas Vnr Area', 'BsmtFin SF 1',\n",
       "       ...\n",
       "       'Misc Feature_Othr', 'Misc Feature_Shed', 'Sale Type_CWD',\n",
       "       'Sale Type_Con', 'Sale Type_ConLD', 'Sale Type_ConLI',\n",
       "       'Sale Type_ConLw', 'Sale Type_New', 'Sale Type_Oth', 'Sale Type_WD '],\n",
       "      dtype='object', length=249)"
      ]
     },
     "execution_count": 57,
     "metadata": {},
     "output_type": "execute_result"
    }
   ],
   "source": [
    "# check the columns in the test dataframe.  notice that there are now 235 (one less because of SalePrice)\n",
    "test.columns"
   ]
  },
  {
   "cell_type": "markdown",
   "metadata": {},
   "source": [
    "## Features with strongest and weakest correlations to Sale Price"
   ]
  },
  {
   "cell_type": "code",
   "execution_count": 58,
   "metadata": {},
   "outputs": [
    {
     "data": {
      "image/png": "[encoded data removed]",
      "text/plain": [
       "<Figure size 360x504 with 2 Axes>"
      ]
     },
     "metadata": {
      "needs_background": "light"
     },
     "output_type": "display_data"
    }
   ],
   "source": [
    "# check out the five columns with the greatest negative correlation to SalePrice\n",
    "# In order: 'Overall Qual', 'Gr Liv Area', 'Garage Area', 'Garage Cars', 'Total Bsmt SF'\n",
    "\n",
    "#make a heatmap\n",
    "plt.figure(figsize=(5,7))\n",
    "plt.title('Greatest Positive Correlation to SalePrice') #set title\n",
    "sns.heatmap(train.corr()[['SalePrice']].sort_values('SalePrice').tail(6), cmap='Blues', annot=True, vmin=-1);\n",
    "#set blue for positive"
   ]
  },
  {
   "cell_type": "markdown",
   "metadata": {},
   "source": [
    "#### The greatest positive correlation to SalePrice (in order)\n",
    "1.  Overall Quality \n",
    "2.  Above Ground Living Area Square Footage\n",
    "3.  Garage Area Square Footage \n",
    "4.  Size of garage in car capacity \n",
    "5.  Total Basement Square Footage"
   ]
  },
  {
   "cell_type": "code",
   "execution_count": 59,
   "metadata": {},
   "outputs": [
    {
     "data": {
      "image/png": "[encoded data removed]",
      "text/plain": [
       "<Figure size 360x504 with 2 Axes>"
      ]
     },
     "metadata": {
      "needs_background": "light"
     },
     "output_type": "display_data"
    }
   ],
   "source": [
    "# check out the five columns with the greatest negative correlation to SalePrice\n",
    "# In order: 'Exter Qual_TA', 'Kitchen Qual_TA', 'Fireplace Qu_No Fireplace', 'Bsmt Qual_TA', 'Garage Finish_Unf'\n",
    "\n",
    "#make a heatmap\n",
    "plt.figure(figsize=(5,7))\n",
    "plt.title('Greatest Negative Correlation to SalePrice') #set title\n",
    "sns.heatmap(train.corr()[['SalePrice']].sort_values('SalePrice').head(), cmap='Reds', annot=True, vmin=-1);\n",
    "# set red for negative"
   ]
  },
  {
   "cell_type": "markdown",
   "metadata": {},
   "source": [
    "#### The greatest negative correlation to SalePrice (in order)\n",
    "1.  External Quality = Average/Typical \n",
    "2.  Kitchen Quality = Average/Typical\n",
    "3.  Doesn't Have Fireplace\n",
    "4.  Basement Quality = Average/Typical \n",
    "5.  Interior Finish of the garage = Unfinished"
   ]
  },
  {
   "cell_type": "code",
   "execution_count": 60,
   "metadata": {},
   "outputs": [
    {
     "data": {
      "text/plain": [
       "array(['Functional_Min1', 'Exterior 1st_WdShing', 'BsmtFin Type 2_BLQ',\n",
       "       'Exterior 2nd_Brk Cmn', 'Misc Feature_Shed',\n",
       "       'Neighborhood_NPkVill', 'Garage Qual_Po', 'Bsmt Half Bath',\n",
       "       'BsmtFin Type 2_Rec', 'House Style_SLvl', 'BsmtFin Type 2_LwQ',\n",
       "       'Roof Style_Gambrel', 'Low Qual Fin SF', 'Fence_MnWw',\n",
       "       'MS SubClass_85', 'Exterior 1st_Plywood', 'Heating_GasW',\n",
       "       'Neighborhood_Mitchel', 'Sale Type_ConLw', 'Exterior 2nd_CBlock',\n",
       "       'MS SubClass_40', 'MS Zoning_I (all)', 'Utilities_NoSewr',\n",
       "       'MS Zoning_RH', 'MS SubClass_80', 'Sale Type_Oth',\n",
       "       'Exterior 1st_AsphShn', 'Bsmt Qual_Po', 'Neighborhood_Blueste',\n",
       "       'Condition 1_RRNe', 'Exterior 1st_BrkComm', 'Pool QC_No Pool',\n",
       "       'Fireplace Qu_Fa', 'Foundation_Stone', 'Exterior 2nd_AsphShn',\n",
       "       'House Style_1Story', 'Roof Style_Mansard', 'Pool QC_TA',\n",
       "       'Yr Sold', 'Condition 1_RRAn', 'Lot Config_FR2', 'Alley_Pave',\n",
       "       'Condition 2_Norm', 'Misc Feature_Othr', 'Misc Val',\n",
       "       'Foundation_Wood', 'Neighborhood_Greens', 'Sale Type_CWD',\n",
       "       'Roof Matl_Tar&Grv', 'Lot Shape_IR3', 'Exterior 2nd_BrkFace',\n",
       "       'House Style_2.5Unf', 'Condition 1_RRNn', 'Land Slope_Sev',\n",
       "       'Roof Style_Shed', 'Lot Config_FR3', 'BsmtFin SF 2',\n",
       "       'Neighborhood_SawyerW', 'Sale Type_ConLI', 'Pool Area',\n",
       "       'Neighborhood_Gilbert', 'MS SubClass_75', 'Exterior 1st_BrkFace',\n",
       "       'Garage Cond_Gd', 'Bsmt Exposure_Mn', 'Mo Sold',\n",
       "       'Land Contour_Low', 'Sale Type_Con', 'Neighborhood_NWAmes',\n",
       "       'House Style_2.5Fin', 'Exterior 2nd_ImStucc', 'Roof Matl_WdShake',\n",
       "       'Misc Feature_None', '3Ssn Porch'], dtype=object)"
      ]
     },
     "execution_count": 60,
     "metadata": {},
     "output_type": "execute_result"
    }
   ],
   "source": [
    "# find a dataframe of all the collumns in our train dataframe as they correlate to SalePrice, from lowest to highest\n",
    "# set this under the variable corr\n",
    "corr = train.corr()[['SalePrice']].sort_values('SalePrice')\n",
    "\n",
    "# find all the columns in our new dataframe that correlate to sales price, where the correlation\n",
    "# is either less than 0.05 or greater than -0.05, and set this under the variable corr_features\n",
    "corr_features = corr[(corr.SalePrice < 0.05) & (corr.SalePrice > -0.05)]\n",
    " #worked with russ on this\n",
    "    \n",
    "\n",
    "# This sets the dataframe of dummy columns whose correlation to salesprice is too weak to be of use\n",
    "# as a list, which we save under the variable drop_cols2\n",
    "drop_cols2 = corr_features.index.values\n",
    "\n",
    "\n",
    "# list all of the columns we are dropping\n",
    "drop_cols2\n",
    "\n"
   ]
  },
  {
   "cell_type": "code",
   "execution_count": 61,
   "metadata": {},
   "outputs": [
    {
     "data": {
      "text/plain": [
       "(2051, 176)"
      ]
     },
     "execution_count": 61,
     "metadata": {},
     "output_type": "execute_result"
    }
   ],
   "source": [
    "# drop the columns whose correlation to salesprice is too weak to be of use from our train dataframe\n",
    "# NOTE: 2nd drop (for the dummy variables)\n",
    "train.drop(columns=drop_cols2, inplace=True)\n",
    "\n",
    "# check the train shape\n",
    "train.shape"
   ]
  },
  {
   "cell_type": "code",
   "execution_count": 62,
   "metadata": {},
   "outputs": [
    {
     "data": {
      "text/plain": [
       "(879, 175)"
      ]
     },
     "execution_count": 62,
     "metadata": {},
     "output_type": "execute_result"
    }
   ],
   "source": [
    "# drop the columns whose correlation to salesprice is too weak to be of use from our train dataframe\n",
    "# NOTE: 2nd drop (for the dummy variables)\n",
    "test.drop(columns=drop_cols2, inplace=True)\n",
    "\n",
    "# check the train shape\n",
    "test.shape"
   ]
  },
  {
   "cell_type": "markdown",
   "metadata": {},
   "source": [
    "## Fitting The Model"
   ]
  },
  {
   "cell_type": "code",
   "execution_count": 63,
   "metadata": {},
   "outputs": [
    {
     "data": {
      "text/plain": [
       "Index(['Lot Frontage', 'Lot Area', 'Overall Qual', 'Overall Cond',\n",
       "       'Year Built', 'Year Remod/Add', 'Mas Vnr Area', 'BsmtFin SF 1',\n",
       "       'Bsmt Unf SF', 'Total Bsmt SF',\n",
       "       ...\n",
       "       'Garage Cond_Po', 'Garage Cond_TA', 'Paved Drive_P', 'Paved Drive_Y',\n",
       "       'Fence_GdWo', 'Fence_MnPrv', 'Fence_No Fence', 'Sale Type_ConLD',\n",
       "       'Sale Type_New', 'Sale Type_WD '],\n",
       "      dtype='object', length=173)"
      ]
     },
     "execution_count": 63,
     "metadata": {},
     "output_type": "execute_result"
    }
   ],
   "source": [
    "# set the features we will use as the columns for our X value\n",
    "# notice we are dropping SalesPrice from our features because we don't want it in our X value \n",
    "# we also drop PID and Id, because in spite of their correlations they are random and will hold no sway on our prices\n",
    "features = train.columns.drop(['SalePrice', 'PID', 'Id'])\n",
    "\n",
    "#check this list\n",
    "features"
   ]
  },
  {
   "cell_type": "code",
   "execution_count": 64,
   "metadata": {},
   "outputs": [],
   "source": [
    "# Also drop PID and Id from the test dataframe for the same reason, and also so it is the same dimensions as train\n",
    "test.drop(['PID', 'Id'], axis=1, inplace=True)"
   ]
  },
  {
   "cell_type": "code",
   "execution_count": 65,
   "metadata": {},
   "outputs": [
    {
     "data": {
      "text/html": [
       "<div>\n",
       "<style scoped>\n",
       "    .dataframe tbody tr th:only-of-type {\n",
       "        vertical-align: middle;\n",
       "    }\n",
       "\n",
       "    .dataframe tbody tr th {\n",
       "        vertical-align: top;\n",
       "    }\n",
       "\n",
       "    .dataframe thead th {\n",
       "        text-align: right;\n",
       "    }\n",
       "</style>\n",
       "<table border=\"1\" class=\"dataframe\">\n",
       "  <thead>\n",
       "    <tr style=\"text-align: right;\">\n",
       "      <th></th>\n",
       "      <th>Lot Frontage</th>\n",
       "      <th>Lot Area</th>\n",
       "      <th>Overall Qual</th>\n",
       "      <th>Overall Cond</th>\n",
       "      <th>Year Built</th>\n",
       "      <th>Year Remod/Add</th>\n",
       "      <th>Mas Vnr Area</th>\n",
       "      <th>BsmtFin SF 1</th>\n",
       "      <th>Bsmt Unf SF</th>\n",
       "      <th>Total Bsmt SF</th>\n",
       "      <th>...</th>\n",
       "      <th>Garage Cond_Po</th>\n",
       "      <th>Garage Cond_TA</th>\n",
       "      <th>Paved Drive_P</th>\n",
       "      <th>Paved Drive_Y</th>\n",
       "      <th>Fence_GdWo</th>\n",
       "      <th>Fence_MnPrv</th>\n",
       "      <th>Fence_No Fence</th>\n",
       "      <th>Sale Type_ConLD</th>\n",
       "      <th>Sale Type_New</th>\n",
       "      <th>Sale Type_WD</th>\n",
       "    </tr>\n",
       "  </thead>\n",
       "  <tbody>\n",
       "    <tr>\n",
       "      <th>0</th>\n",
       "      <td>0.0</td>\n",
       "      <td>13517</td>\n",
       "      <td>6</td>\n",
       "      <td>8</td>\n",
       "      <td>1976</td>\n",
       "      <td>2005</td>\n",
       "      <td>289.0</td>\n",
       "      <td>533.0</td>\n",
       "      <td>192.0</td>\n",
       "      <td>725.0</td>\n",
       "      <td>...</td>\n",
       "      <td>0</td>\n",
       "      <td>1</td>\n",
       "      <td>0</td>\n",
       "      <td>1</td>\n",
       "      <td>0</td>\n",
       "      <td>0</td>\n",
       "      <td>1</td>\n",
       "      <td>0</td>\n",
       "      <td>0</td>\n",
       "      <td>1</td>\n",
       "    </tr>\n",
       "    <tr>\n",
       "      <th>1</th>\n",
       "      <td>43.0</td>\n",
       "      <td>11492</td>\n",
       "      <td>7</td>\n",
       "      <td>5</td>\n",
       "      <td>1996</td>\n",
       "      <td>1997</td>\n",
       "      <td>132.0</td>\n",
       "      <td>637.0</td>\n",
       "      <td>276.0</td>\n",
       "      <td>913.0</td>\n",
       "      <td>...</td>\n",
       "      <td>0</td>\n",
       "      <td>1</td>\n",
       "      <td>0</td>\n",
       "      <td>1</td>\n",
       "      <td>0</td>\n",
       "      <td>0</td>\n",
       "      <td>1</td>\n",
       "      <td>0</td>\n",
       "      <td>0</td>\n",
       "      <td>1</td>\n",
       "    </tr>\n",
       "    <tr>\n",
       "      <th>2</th>\n",
       "      <td>68.0</td>\n",
       "      <td>7922</td>\n",
       "      <td>5</td>\n",
       "      <td>7</td>\n",
       "      <td>1953</td>\n",
       "      <td>2007</td>\n",
       "      <td>0.0</td>\n",
       "      <td>731.0</td>\n",
       "      <td>326.0</td>\n",
       "      <td>1057.0</td>\n",
       "      <td>...</td>\n",
       "      <td>0</td>\n",
       "      <td>1</td>\n",
       "      <td>0</td>\n",
       "      <td>1</td>\n",
       "      <td>0</td>\n",
       "      <td>0</td>\n",
       "      <td>1</td>\n",
       "      <td>0</td>\n",
       "      <td>0</td>\n",
       "      <td>1</td>\n",
       "    </tr>\n",
       "    <tr>\n",
       "      <th>3</th>\n",
       "      <td>73.0</td>\n",
       "      <td>9802</td>\n",
       "      <td>5</td>\n",
       "      <td>5</td>\n",
       "      <td>2006</td>\n",
       "      <td>2007</td>\n",
       "      <td>0.0</td>\n",
       "      <td>0.0</td>\n",
       "      <td>384.0</td>\n",
       "      <td>384.0</td>\n",
       "      <td>...</td>\n",
       "      <td>0</td>\n",
       "      <td>1</td>\n",
       "      <td>0</td>\n",
       "      <td>1</td>\n",
       "      <td>0</td>\n",
       "      <td>0</td>\n",
       "      <td>1</td>\n",
       "      <td>0</td>\n",
       "      <td>0</td>\n",
       "      <td>1</td>\n",
       "    </tr>\n",
       "    <tr>\n",
       "      <th>4</th>\n",
       "      <td>82.0</td>\n",
       "      <td>14235</td>\n",
       "      <td>6</td>\n",
       "      <td>8</td>\n",
       "      <td>1900</td>\n",
       "      <td>1993</td>\n",
       "      <td>0.0</td>\n",
       "      <td>0.0</td>\n",
       "      <td>676.0</td>\n",
       "      <td>676.0</td>\n",
       "      <td>...</td>\n",
       "      <td>0</td>\n",
       "      <td>1</td>\n",
       "      <td>0</td>\n",
       "      <td>0</td>\n",
       "      <td>0</td>\n",
       "      <td>0</td>\n",
       "      <td>1</td>\n",
       "      <td>0</td>\n",
       "      <td>0</td>\n",
       "      <td>1</td>\n",
       "    </tr>\n",
       "  </tbody>\n",
       "</table>\n",
       "<p>5 rows × 173 columns</p>\n",
       "</div>"
      ],
      "text/plain": [
       "   Lot Frontage  Lot Area  Overall Qual  Overall Cond  Year Built  \\\n",
       "0           0.0     13517             6             8        1976   \n",
       "1          43.0     11492             7             5        1996   \n",
       "2          68.0      7922             5             7        1953   \n",
       "3          73.0      9802             5             5        2006   \n",
       "4          82.0     14235             6             8        1900   \n",
       "\n",
       "   Year Remod/Add  Mas Vnr Area  BsmtFin SF 1  Bsmt Unf SF  Total Bsmt SF  \\\n",
       "0            2005         289.0         533.0        192.0          725.0   \n",
       "1            1997         132.0         637.0        276.0          913.0   \n",
       "2            2007           0.0         731.0        326.0         1057.0   \n",
       "3            2007           0.0           0.0        384.0          384.0   \n",
       "4            1993           0.0           0.0        676.0          676.0   \n",
       "\n",
       "   ...  Garage Cond_Po  Garage Cond_TA  Paved Drive_P  Paved Drive_Y  \\\n",
       "0  ...               0               1              0              1   \n",
       "1  ...               0               1              0              1   \n",
       "2  ...               0               1              0              1   \n",
       "3  ...               0               1              0              1   \n",
       "4  ...               0               1              0              0   \n",
       "\n",
       "   Fence_GdWo  Fence_MnPrv  Fence_No Fence  Sale Type_ConLD  Sale Type_New  \\\n",
       "0           0            0               1                0              0   \n",
       "1           0            0               1                0              0   \n",
       "2           0            0               1                0              0   \n",
       "3           0            0               1                0              0   \n",
       "4           0            0               1                0              0   \n",
       "\n",
       "   Sale Type_WD   \n",
       "0              1  \n",
       "1              1  \n",
       "2              1  \n",
       "3              1  \n",
       "4              1  \n",
       "\n",
       "[5 rows x 173 columns]"
      ]
     },
     "execution_count": 65,
     "metadata": {},
     "output_type": "execute_result"
    }
   ],
   "source": [
    "# Set up our X and y variables from out train data to use to train our model with\n",
    "\n",
    "X = train[features]\n",
    "y = train['SalePrice']\n",
    "\n",
    "#check out the first 5 rows in our X\n",
    "X.head()"
   ]
  },
  {
   "cell_type": "code",
   "execution_count": 66,
   "metadata": {},
   "outputs": [
    {
     "data": {
      "text/plain": [
       "(2051, 173)"
      ]
     },
     "execution_count": 66,
     "metadata": {},
     "output_type": "execute_result"
    }
   ],
   "source": [
    "# check the dimensions of our X\n",
    "X.shape"
   ]
  },
  {
   "cell_type": "code",
   "execution_count": 67,
   "metadata": {},
   "outputs": [
    {
     "data": {
      "text/plain": [
       "0    130500\n",
       "1    220000\n",
       "2    109000\n",
       "3    174000\n",
       "4    138500\n",
       "Name: SalePrice, dtype: int64"
      ]
     },
     "execution_count": 67,
     "metadata": {},
     "output_type": "execute_result"
    }
   ],
   "source": [
    "#check out the first 5 rows in our y\n",
    "y.head()"
   ]
  },
  {
   "cell_type": "code",
   "execution_count": 68,
   "metadata": {},
   "outputs": [],
   "source": [
    "#Use the train_test_split function to split our X and y variables into a training set and a holdout set.\n",
    "X_train, X_test, y_train, y_test = train_test_split(X, y, random_state = 42)"
   ]
  },
  {
   "cell_type": "code",
   "execution_count": 69,
   "metadata": {},
   "outputs": [],
   "source": [
    "#we'll want to scale our features for testing Lasso and ridge models\n",
    "#fit a StandardScaler to X_train and use it to transform both  X_train and X_test\n",
    "#only Xtrain and Xtest will be fit\n",
    "ss= StandardScaler()\n",
    "ss.fit(X_train)  #ONLY FIT TO TRAINING DATA\n",
    "X_train_sc = ss.transform(X_train)\n",
    "X_test_sc = ss.transform(X_test) #NOTICE NO FITTING HAPPENED HERE\n",
    "\n",
    "\n",
    "# scale our features for the test DataFrame\n",
    "test_test_sc = ss.transform(test)"
   ]
  },
  {
   "cell_type": "code",
   "execution_count": 70,
   "metadata": {},
   "outputs": [
    {
     "data": {
      "text/plain": [
       "LinearRegression(copy_X=True, fit_intercept=True, n_jobs=None, normalize=False)"
      ]
     },
     "execution_count": 70,
     "metadata": {},
     "output_type": "execute_result"
    }
   ],
   "source": [
    "#create instance of Linear Regression model\n",
    "lr = LinearRegression()\n",
    "\n",
    "# fit the scaled X_train and the y_train of our train dataframe to this linear regression instance\n",
    "lr.fit(X_train_sc, y_train)"
   ]
  },
  {
   "cell_type": "code",
   "execution_count": 71,
   "metadata": {},
   "outputs": [
    {
     "data": {
      "text/plain": [
       "0.9002857854209311"
      ]
     },
     "execution_count": 71,
     "metadata": {},
     "output_type": "execute_result"
    }
   ],
   "source": [
    "# check the score of this linear regression model on the scaled X_train and the y_train of our train dataframe\n",
    "lr.score(X_train_sc, y_train)"
   ]
  },
  {
   "cell_type": "code",
   "execution_count": 72,
   "metadata": {},
   "outputs": [
    {
     "data": {
      "text/plain": [
       "-5.535058946790516e+20"
      ]
     },
     "execution_count": 72,
     "metadata": {},
     "output_type": "execute_result"
    }
   ],
   "source": [
    "# check the score of this linear regression model on the scaled X_test and the y_test of our train dataframe\n",
    "lr.score(X_test_sc, y_test)"
   ]
  },
  {
   "cell_type": "markdown",
   "metadata": {},
   "source": [
    "#### yikes *TERRIBLE* score"
   ]
  },
  {
   "cell_type": "code",
   "execution_count": 73,
   "metadata": {},
   "outputs": [
    {
     "data": {
      "text/plain": [
       "LassoCV(alphas=None, copy_X=True, cv=5, eps=0.001, fit_intercept=True,\n",
       "        max_iter=1000, n_alphas=100, n_jobs=None, normalize=False,\n",
       "        positive=False, precompute='auto', random_state=None,\n",
       "        selection='cyclic', tol=0.0001, verbose=False)"
      ]
     },
     "execution_count": 73,
     "metadata": {},
     "output_type": "execute_result"
    }
   ],
   "source": [
    "#create instance of LASSO model\n",
    "lasso = LassoCV(cv=5)\n",
    "\n",
    "# fit the scaled X_train and the y_train of our train dataframe to this LASSO instance\n",
    "lasso.fit(X_train_sc, y_train)"
   ]
  },
  {
   "cell_type": "code",
   "execution_count": 74,
   "metadata": {},
   "outputs": [
    {
     "data": {
      "text/plain": [
       "0.8970003194008491"
      ]
     },
     "execution_count": 74,
     "metadata": {},
     "output_type": "execute_result"
    }
   ],
   "source": [
    "# check the score of this LASSO model on the scaled X_train and the y_train of our train dataframe\n",
    "lasso.score(X_train_sc, y_train)"
   ]
  },
  {
   "cell_type": "code",
   "execution_count": 75,
   "metadata": {},
   "outputs": [
    {
     "data": {
      "text/plain": [
       "0.8993561802872061"
      ]
     },
     "execution_count": 75,
     "metadata": {},
     "output_type": "execute_result"
    }
   ],
   "source": [
    "# check the score of this LASSO model on the scaled X_test and the y_test of our train dataframe\n",
    "lasso.score(X_test_sc, y_test)"
   ]
  },
  {
   "cell_type": "markdown",
   "metadata": {},
   "source": [
    "####  *MUCH* better score, and test score higher then train score (which we want)"
   ]
  },
  {
   "cell_type": "code",
   "execution_count": 76,
   "metadata": {},
   "outputs": [
    {
     "data": {
      "text/plain": [
       "RidgeCV(alphas=array([ 0.1,  1. , 10. ]), cv=None, fit_intercept=True,\n",
       "        gcv_mode=None, normalize=False, scoring=None, store_cv_values=False)"
      ]
     },
     "execution_count": 76,
     "metadata": {},
     "output_type": "execute_result"
    }
   ],
   "source": [
    "#create instance of Ridge model\n",
    "ridge = RidgeCV()\n",
    "\n",
    "# fit the scaled X_train and the y_train of our train dataframe to this ridge instance\n",
    "ridge.fit(X_train_sc, y_train)"
   ]
  },
  {
   "cell_type": "code",
   "execution_count": 77,
   "metadata": {},
   "outputs": [
    {
     "data": {
      "text/plain": [
       "0.9001546151757928"
      ]
     },
     "execution_count": 77,
     "metadata": {},
     "output_type": "execute_result"
    }
   ],
   "source": [
    "# check the score of this ridge model on the scaled X_train and the y_train of our train dataframe\n",
    "ridge.score(X_train_sc, y_train)"
   ]
  },
  {
   "cell_type": "code",
   "execution_count": 78,
   "metadata": {},
   "outputs": [
    {
     "data": {
      "text/plain": [
       "0.8955998390269265"
      ]
     },
     "execution_count": 78,
     "metadata": {},
     "output_type": "execute_result"
    }
   ],
   "source": [
    "# check the score of this ridge model on the scaled X_test and the y_test of our train dataframe\n",
    "ridge.score(X_test_sc, y_test)"
   ]
  },
  {
   "cell_type": "markdown",
   "metadata": {},
   "source": [
    "####  Very good score, test score higher then train score (which we want), but LASSO was better"
   ]
  },
  {
   "cell_type": "code",
   "execution_count": 79,
   "metadata": {},
   "outputs": [
    {
     "data": {
      "text/plain": [
       "0.849701605530945"
      ]
     },
     "execution_count": 79,
     "metadata": {},
     "output_type": "execute_result"
    }
   ],
   "source": [
    "cross_val_score(lasso, X_train_sc, y_train, cv=5).mean()"
   ]
  },
  {
   "cell_type": "code",
   "execution_count": 80,
   "metadata": {},
   "outputs": [],
   "source": [
    "#predict y using the linear regression model\n",
    "y_pred_lr = lr.predict(test_test_sc)\n",
    "\n",
    "#check root mean squared error (RMSE)\n",
    "#np.sqrt(mean_squared_error(y_train, y_pred))"
   ]
  },
  {
   "cell_type": "code",
   "execution_count": 81,
   "metadata": {},
   "outputs": [
    {
     "name": "stdout",
     "output_type": "stream",
     "text": [
      "[135357.94580782 147978.30108754 225009.01270957 103794.2605538\n",
      " 177162.46255052  99272.63763667  94232.03588734 161344.52720832\n",
      " 177763.5163905  164626.21573329 133383.6031593  125936.00781422\n",
      " 146636.30094825 285219.3018453  142698.43662854 132655.33819239\n",
      " 141467.3643337  119555.44934041 187932.29222361 179408.13234703\n",
      " 169200.85755611 124548.80094421 170796.06031726 179971.86967927\n",
      " 161629.975608   124591.1127896  125360.98202324 124477.08391823\n",
      " 165303.40960062  69182.61238761  95557.77884279 101640.62331621\n",
      " 186547.55617915 148629.61185446 218302.13453191 179776.68126195\n",
      " 112913.25218668 102703.78527414 130502.14639476 192475.80926601\n",
      " 170835.70578711 214275.9288033  148544.03587865 165089.58663848\n",
      " 208978.96182319 101222.6184494  218437.64011475 126010.96727067\n",
      " 145127.56731987 107752.3213547   93139.66164636 201146.61937027\n",
      " 218193.3644485  116709.29030375 100434.10149051 151910.28164569\n",
      " 172324.53056331 138957.61126537 170481.96442231 229475.7959985\n",
      " 294743.1572215  103991.84480695 147459.22679717 160550.26621816\n",
      " 182288.27778256 325959.50217567  83093.34554062 204981.2254819\n",
      "  85355.0184814  163707.76434201 103026.96800201 365551.67389179\n",
      " 196543.62129042 170733.30180679 144051.4668751  189990.56688018\n",
      " 479372.11342411 149124.64918619 126152.44498418 101718.60767218\n",
      " 376416.82456325 190671.10888505 130927.89022732 136614.66513391\n",
      "  94724.447569   220710.74836397 351939.54944548 137928.55328838\n",
      " 169808.13750541 213289.70152489 134922.52906315 131199.62772425\n",
      "  92208.48910039 117871.84184843 243634.44229785 139766.64567089\n",
      " 138118.45386937 198887.25350365 232678.45065146 193913.38298522\n",
      " 222078.92390528 314781.20589285 171035.77911042 133669.53557884\n",
      " 458005.06832842 140714.20975194 107989.12095775 171782.91947142\n",
      " 197692.15024592 135584.50361968 136444.70310188 179255.99532175\n",
      " 221950.5227363  111929.07384173 129866.56102198 217562.42991955\n",
      " 442123.94611058 123071.14302985 107274.71721868 324939.68598864\n",
      " 199831.30791684 363281.93344075 325568.04146909 325866.69925146\n",
      " 179361.21792733 134048.63759165 351743.88366369 128772.44226718\n",
      " 132604.26763626 128559.23565524 238587.35825721 142140.3261703\n",
      " 214232.97873014 150374.72862224 182586.52839648 169567.04588682\n",
      " 226423.08141839 199745.81240486 148239.36947157 222395.19772161\n",
      " 125181.60856122 180941.53060908 149767.44005583 135787.77714678\n",
      " 131612.70317949 108125.67857873 129858.25493543 150521.96682588\n",
      " 149809.32278791  58644.31749113 196334.80090124 187314.06104004\n",
      " 147591.33233252  96458.77222376 116522.41975048 112384.36983363\n",
      " 134240.72379027  79012.34688917 126490.91825815 251250.6633489\n",
      " 248807.36413147 234245.29671575 109679.76545918 115718.15254318\n",
      " 465691.21960586 284486.69310726 235648.3472304  141485.33730068\n",
      " 156594.83561144 253467.17992201 200773.27752697 445387.47308\n",
      " 144188.10248427 167078.1737587  159481.77776306 203571.05741554\n",
      " 167753.15072443 113916.35484503 150329.84219305  76428.61681297\n",
      " 142247.85139592 127064.81818764 194742.11775977 268626.62288564\n",
      " 196984.2565165  155780.91994713 107457.57187907 218069.19399513\n",
      " 171144.17086656 124126.67657778  54200.80339424 202842.38347608\n",
      " 141850.2395752  109719.92939806  99290.46791409 192425.45316519\n",
      " 185428.09672981 285471.3434337  128682.00390611 124178.33269015\n",
      " 120803.3051944  337872.36203108 171453.95281144 124104.44531562\n",
      " 168128.46894492 128052.05488873  93701.54668405 145282.38447138\n",
      " 137017.48653675 229386.30876911 236244.29708083 202761.98410733\n",
      " 222589.29663919 113205.28029909 268547.36528899 246102.23950905\n",
      " 193436.49991759 198904.62721856 154479.16444314 110837.14307974\n",
      " 144879.33661763 202407.51913308 117907.16486602 180132.4608655\n",
      " 191130.23451027 152586.02296136  93936.6114729  235222.57937711\n",
      " 217351.14491543 155989.19765934 281221.16895993 169833.91358372\n",
      "  84685.41911154 146387.71405933  80533.44530848 210957.7830094\n",
      " 183682.2811538   81002.78144997 438268.23523431 319292.63835737\n",
      " 201453.87638025 257240.67191651 162631.37826242 322425.84883714\n",
      " 218818.83855287 323444.37333095 227827.59489032 118929.69431743\n",
      " 126488.28328889 173833.74952949 313509.80926065 293928.15548708\n",
      " 138984.93533723 228606.45855665 234931.82139211 184187.01622679\n",
      " 110959.67215931  83597.1614428  415170.05694093 220755.5142094\n",
      " 238605.24645718 212886.73292011 142054.68490426 114721.2209316\n",
      " 162811.13861135 241641.8952421  153920.16766532 134189.40524798\n",
      " 209012.78966431 250593.40621635 140814.61470099 191823.6620042\n",
      " 205610.05876253 180638.63840289 324371.10463181 116820.18383677\n",
      " 125010.01219855 140459.5764511  198845.89745385 125787.90369437\n",
      " 100889.97963187 233229.42915169 139740.51521565 111314.05828575\n",
      "  96589.18633901 147896.3053155  270235.91011849 216450.42534732\n",
      "  96268.96246065  92878.96683822 117073.46387635 106530.66390026\n",
      " 143757.64324835  80535.1427186   99198.30203637 161557.29315867\n",
      " 149426.82617433 190816.15474611 277404.40633301 246732.76662808\n",
      " 158270.05242254 179764.75322114 337273.94505891 124023.60997511\n",
      " 130442.31354645  81643.55237005 102729.28337822 252566.48737012\n",
      " 193464.62430355 134356.50898595 130222.29490918 232688.63126796\n",
      " 247955.1693708  238894.34801864 261678.28476951 145657.28296297\n",
      " 355045.12518666 384399.59832378 294068.37799221 221319.67597088\n",
      " 115503.28364434  81750.15856741 129408.11782693 150863.15485655\n",
      " 265469.15152486 113677.73530665 111212.35052638 142254.49796925\n",
      " 195028.20339916 215606.58578535 136166.54172862 148256.78278945\n",
      " 182196.3470381  141025.15755112 191141.8658578   93026.71911949\n",
      " 161832.88442334  78147.17158629 116406.80380359 111426.32917217\n",
      " 173870.24065451 184563.32466001  99127.47090282 128755.46047131\n",
      " 173685.86605308 286314.85539945 244498.63715569 174034.33407318\n",
      "  99981.55915486 207527.16295056 145620.59461718 144142.72584456\n",
      " 163976.64516463 118827.5028091  285164.63168659 127824.49420455\n",
      " 260133.45314352 152807.4569407  207404.83745021 239087.62421358\n",
      " 122242.67666017 150823.24877217 120015.15803467 107140.45857695\n",
      " 157706.72264352 195751.33628799 280779.59928493 230232.24048859\n",
      " 201617.00197684 210858.85681314 124894.7369963  188131.09089366\n",
      " 108132.30390074 158191.84421455 376399.54899287 150676.74350612\n",
      " 296782.28676395 185525.53982457 292390.08376786 225745.8732607\n",
      " 110715.37781155 162399.36067773 115833.55804332 356187.05961158\n",
      " 350838.56653621 231870.07539476 202781.13284432 148166.71524621\n",
      " 208807.81659017 135686.88038047 116382.7358441  101332.1888821\n",
      " 339877.84279423 175861.77697333 118052.13144089 167764.69985813\n",
      "  50112.82990038 194205.30512346 201851.96130128 144279.43694556\n",
      "  58393.06745146 193950.49833482 204328.63686192 139436.66313238\n",
      " 276662.27068552 126500.82276602 105007.69786121 134456.95473806\n",
      " 233340.70976541 306050.32412283 124864.22102168 101707.44627189\n",
      " 151674.57662862 228839.81566446 146268.09619592 241665.55112901\n",
      " 335633.15031231 126933.55897307 227524.00116555 101068.36140573\n",
      " 166345.73781443 233105.19715685 119788.06244316 209524.85061597\n",
      " 117861.13119317 199548.85580807 382054.81868118 191451.20280874\n",
      " 208683.04091776 155853.63503991 252604.10741568 107583.97495911\n",
      " 154712.34599248 118803.69498967 199606.09116871  86892.79153845\n",
      " 315692.45792507 220077.81412728 180271.04271803 156042.25791887\n",
      " 143422.67765201 191798.94023262 134107.5477501  127459.39985562\n",
      " 180805.95146902 148856.09058878 227210.07648647  39287.36024097\n",
      "  96751.91660983 303695.86256637 179719.81601    247079.80758336\n",
      " 256260.37922021 249483.60665182 133733.88689643 206936.10754057\n",
      " 234286.56534271 222246.49982114 123225.30472749 229424.94792133\n",
      " 122544.86638684 153211.60214594 125092.94799567 160787.07095321\n",
      " 572691.69128422 123534.35450489 211373.17461066 248993.45203404\n",
      " 216005.20149673 110164.36677928 142106.80814069 144652.19373142\n",
      " 220285.45104956 192092.33395092  99198.07593917 221789.05326253\n",
      " 207363.14693937 103051.98862381 145946.25804579  85344.3689264\n",
      " 193170.05916696  74492.38867942 204936.78448848 125704.30985621\n",
      " 182363.50838511 282612.2769657  135547.81956662 173255.56719652\n",
      " 175447.03932986 188780.63307107 147119.34979185 116201.41206096\n",
      " 199294.27540155 171104.66451003 240661.104825   395840.00372675\n",
      " 178082.57075652 115476.13075015 144593.53343953 171794.8486484\n",
      "  99903.78142742 193262.85101395 221402.87753232 218841.78093218\n",
      " 142120.91046431 226516.99926161 163005.87731804 257786.51364638\n",
      "  97817.53310213 109287.90806621 242763.01193762 112433.66706597\n",
      " 127783.75304219 138485.47471635 145831.08047591  41685.7403793\n",
      " 193844.16827469 156468.70825819 211179.15797618 277291.20239123\n",
      " 276720.51408356 111025.92326783 130058.17325295  99181.40296651\n",
      " 133143.88940864 234921.18279086 419143.39398031 177279.05940032\n",
      " 128071.86304226 124672.31217039  34157.64842905 118151.95581129\n",
      " 222345.5308521  147367.92996557 181392.41714674 196076.10806207\n",
      " 129218.07367096  81002.86726827 245050.69675762 148344.95817806\n",
      " 158284.2955613  154409.93620424  87654.67511401  76072.2708976\n",
      " 150160.68278354 220692.28726553 332960.06600617 229496.95573203\n",
      " 124610.37512673  97959.66238121 302643.85884312 138713.26632882\n",
      " 297081.20346427 114877.60589935 213533.41835744 230855.95073935\n",
      "  89384.98046219 115852.95619957 142260.61232871 103536.90439947\n",
      " 187880.75579763 107024.75784311 159868.57458562 178973.13373986\n",
      " 142067.43424161 131373.83912813 137873.01594981 120428.81450155\n",
      " 209096.6935332  124346.0137512  173620.36304703 157725.32951074\n",
      " 135368.08777428  96600.78807827 165406.4871004  155531.34076576\n",
      " 135246.91083111 174224.15082658 137333.2765804  177744.93212849\n",
      " 109173.34645073 142125.88808188 168508.63926443 289230.10911545\n",
      "  98254.03827073 132640.22758454 186166.67702029 143833.44392776\n",
      " 115382.08068199 265898.75063268 227520.26178495 125211.49013522\n",
      " 114429.56476678 144474.57591859 145621.73179962 326506.39363958\n",
      " 237268.72049614 145985.51352858 144573.42670893 112982.34517695\n",
      " 394478.42865476 134784.91866824 188485.97844151 107813.92817469\n",
      " 188284.64208445 221454.31653318  82840.82900545 139240.29929365\n",
      " 118959.97485658 151979.32425992 123601.81047392 125005.5629536\n",
      " 337703.96290681 218780.69485554 183539.4407954  140011.89958059\n",
      "  33200.6559648  195508.52278822 259941.66262949  78388.74015886\n",
      " 198620.82542791 200510.76285943 120967.4481085  154120.01942402\n",
      "  95767.55610331 137088.09381291 155443.21157697 191411.654962\n",
      " 121246.47783513 321114.91539488 136152.7617378  193522.60956711\n",
      " 193374.45622471 140039.67696636  38037.1426874  169342.95475236\n",
      " 198050.78905661 136940.42248593 149946.53702049 144698.9083097\n",
      " 165931.75609043 311824.8436161  128022.1297757  243608.66479464\n",
      " 256217.411196   170131.6938646   77744.1630636  226817.27511988\n",
      " 190306.61120367 128028.29726143 187148.84310499 136283.63066534\n",
      " 113713.22327493 107805.12973821 162202.04078977  85103.69925085\n",
      " 161983.6280161  208197.67088802 153404.45160377 281713.23730073\n",
      " 173974.21803372 154580.06654374 166570.97556726 181951.08795138\n",
      " 233629.11422369 394272.85971561 225408.67727749 191513.77194449\n",
      " 187847.44387351 172351.53656408 251933.04908693 226959.02987071\n",
      " 247288.4131565  265605.23409674 148242.02601938 122701.7156176\n",
      " 139540.52127069 136132.40359487  94279.12078217 146865.6539954\n",
      " 109217.52412458 329179.8377587  220023.65528142 181195.31255187\n",
      " 224841.60563834 199728.91232878 161139.41879175 195674.92843578\n",
      " 425446.23801747 149933.03179996 167940.70890871  72531.5845674\n",
      " 126799.33148055 298559.23365872 115977.42573207 227497.40111873\n",
      " 157849.26279894 209664.18076379 360107.60074263 103422.82305173\n",
      " 244795.16374113 145703.90125232 136912.35250274 167925.37806299\n",
      " 113950.13744591 284127.51463195 261430.26370907 151610.8357356\n",
      " 130825.77925565 106128.34369554 346879.2918567  220156.17153502\n",
      "  89704.59827043 125296.28368293 141190.09470346 125314.02966569\n",
      " 215863.95561958 296591.63758626 222852.66171711 190793.09055986\n",
      " 211345.6214319  215666.40758132 265262.61801924 140807.40219399\n",
      " 117433.27989862 303560.83886681 186957.79139737 186900.68389086\n",
      " 123497.19033852 259377.69077007  94766.3965507  233647.87467278\n",
      " 203269.5466798  232932.62481432 158644.33931148 177980.72030121\n",
      " 162040.40809375 145079.7073069  167542.9677972  143427.51957169\n",
      " 123302.77291912 215441.54012138 235184.87008165 142052.79123125\n",
      " 100993.9520582  220615.36398639 176788.00030733 196575.53165272\n",
      " 205502.6492404  108559.09296149 309467.10454745 252211.76128799\n",
      " 149075.9553573  145862.8396696  181424.95926873 170800.05223807\n",
      " 131013.66770524 425788.82935048  89580.84293636 150044.91999377\n",
      " 243718.42549359 154588.09707714 217741.32114561 124869.31678242\n",
      " 251052.29685997 169023.09065534 280725.80133294 184912.83822634\n",
      " 189041.46701346 307198.86622632 155155.60553188 282171.65906661\n",
      " 178388.04758543 125830.70574555 208694.28310898 131929.27611986\n",
      " 131581.26239534 222314.93349439 148657.00566351 133838.22999295\n",
      " 177736.68404884 190837.48220742 401446.07609117  89046.2424245\n",
      " 123110.64338482 135714.93878434 167350.38123663 231828.94652446\n",
      " 125443.36583452 254045.60304438 172725.9992281  199628.66497766\n",
      " 227704.08369711 181718.61503195 304776.74513489 143875.12027535\n",
      " 184656.37731513 162054.18540131 247070.9019546  223620.9444321\n",
      " 218349.92731787 119402.42820401 113082.93780921 188614.92738311\n",
      "  97606.45717513 236678.7596282  116706.39314673 129705.37459498\n",
      " 186740.19558712 165955.13583639 108618.09125154 132049.20642935\n",
      " 342893.79021417 184102.64792121 163091.02747474 245393.76917732\n",
      " 212076.97279307 200143.11518887  92313.8069201  103270.76231712\n",
      " 167796.67047506 152114.90482352  96375.08210291 350750.04436465\n",
      " 132970.16712231 193858.81840305 213364.9537468  346959.91678608\n",
      " 140431.40268582 185306.91395162 148967.8733254  163031.0886171\n",
      " 138132.07742205 271644.01084269 229024.32115827 162702.37808106\n",
      " 114485.48395083 345264.15528989 166625.84353081 141625.79113611\n",
      " 125163.78714375 218259.43759783 207354.66326256 212402.26797255\n",
      " 112362.02953291 181036.50838603 166521.59479734 220973.94826116\n",
      " 249065.47600518 117989.85902117 173126.39003733 175257.73633248\n",
      " 176430.49885218 131276.73372324 159545.38707441 165649.24189823\n",
      " 106347.38851674 266588.44730412  91377.04618358 193198.1517825\n",
      " 125288.72165516 358079.3481057  124097.11275793 120336.93405535\n",
      " 166880.47526519 152489.66036183 190025.19515371 204699.21173398\n",
      " 260318.57310773 160462.95368272 173494.96826194 227353.07350376\n",
      " 329975.02195484 199856.92521921 209642.68496325 214062.45112962\n",
      " 128275.29466375 102843.70559986 126114.9287724 ]\n"
     ]
    }
   ],
   "source": [
    "#predict y using the lasso model\n",
    "y_pred = lasso.predict(test_test_sc)\n",
    "\n",
    "#check root mean squared error (RMSE)\n",
    "#np.sqrt(mean_squared_error(y_test, y_pred))\n",
    "print(y_pred)"
   ]
  },
  {
   "cell_type": "code",
   "execution_count": 82,
   "metadata": {},
   "outputs": [
    {
     "name": "stdout",
     "output_type": "stream",
     "text": [
      "[139643.85112413 152225.6684844  223561.69599657 101656.08997471\n",
      " 179229.8758578  100522.33937282  90263.18973379 169450.88917792\n",
      " 178793.07064043 165486.51668266 132301.78370878 119075.42515162\n",
      " 151753.41450813 292597.60310596 119627.23240931 128364.58374413\n",
      " 159511.71206607 118384.87902441 186804.75888526 169683.79622429\n",
      " 174877.15895297 121079.32846235 173714.46396194 173974.77064029\n",
      " 148534.67706625 126453.04180584 125631.56786576 114898.5949718\n",
      " 156014.17831688  71683.6170935   97587.86945696 104848.43207279\n",
      " 164585.10379897 151267.96038931 219816.40722224 175095.54167435\n",
      " 103147.15619726  95388.62581635 134290.61033532 190678.53265515\n",
      " 170325.76426608 213654.35527591 145510.74126398 160910.62330389\n",
      " 211503.17166922 109825.23070722 219005.06550237 135757.96282181\n",
      " 146885.66915141 105684.71567235  84844.92496981 192810.58043163\n",
      " 218640.75479619 114649.64557137  96642.72652485 152671.60046835\n",
      " 165284.75918593 140993.45225669 172731.73819946 231127.7905384\n",
      " 292554.38548479 113698.35216437 145092.71616873 163469.03552779\n",
      " 181355.12626659 333999.94624604  95110.23566754 201211.20287806\n",
      "  92999.07671892 165859.67454303  94886.09587713 367894.00432722\n",
      " 196248.11061715 169922.73102259 149467.67089323 197320.76532856\n",
      " 479833.37691658 151148.79055188 114168.48992132 103370.75278901\n",
      " 388774.36673302 189773.39040001 129730.97007522 118745.87719891\n",
      "  89440.51677615 221390.39795559 359569.36619715 143565.86397782\n",
      " 174921.05824611 211536.09206896 122528.94855899 128153.0073292\n",
      "  81761.60953724 112130.70813929 239118.73703722 137422.35224449\n",
      " 119016.56471528 201724.61888126 226253.41805951 194272.9710455\n",
      " 220444.38405432 332213.4944557  169655.50217931 141864.01555702\n",
      " 462774.59357107 127889.34247977 105674.92760014 173000.29616184\n",
      " 203238.93467424 130119.27850488 146129.6713124  177150.17357355\n",
      " 225909.25690592 111491.79448795 133769.18767026 213480.59004973\n",
      " 444697.44770646 130363.88884743 107073.39794681 334382.56632793\n",
      " 201029.2334566  367564.00790278 324229.68701256 330635.02039465\n",
      " 180803.96769289 117621.52529373 349766.71531775 136330.63538317\n",
      " 132520.76126848 130190.91136489 237069.63762178 141392.93595903\n",
      " 210067.18926467 149534.67583135 186135.0715903  167173.14197928\n",
      " 230452.11045426 197874.44111776 144641.05555552 228600.52635587\n",
      " 127596.73126417 184675.51191509 153046.61757935 136212.09785039\n",
      " 128809.39424826 110888.79679483 118760.21787996 142370.23180605\n",
      " 151358.69895669  44795.06273562 199523.81363573 184275.35847094\n",
      " 150042.18530001  99350.3782787  117379.62776849 107106.79140171\n",
      " 132377.65879815  82969.30640351 113658.84299196 260054.40425748\n",
      " 255000.20397396 239747.74467189 108084.32302744 114041.01788566\n",
      " 472664.57005716 287586.36116333 240650.7012319  136437.73731049\n",
      " 145503.6506183  248963.47675496 203584.42453736 445804.92422315\n",
      " 147813.20733034 176858.52822251 155128.10641492 210755.52887329\n",
      " 166945.84920747 112375.48630638 151284.95499638  75742.90298865\n",
      " 144807.65060654 124903.96270499 192772.88199785 271283.76145237\n",
      " 193409.44288926 157876.1682273  109857.38377808 217119.61632235\n",
      " 168269.48376527 123318.81492269  43559.29922303 204631.54220406\n",
      " 141390.56365457 102542.06416516  91753.74142566 190057.50892916\n",
      " 194243.67811275 288348.39193161 119821.03612039 119919.38171204\n",
      " 125470.26659113 340718.51449838 171769.03935084 117913.41543421\n",
      " 164129.66080869 125628.55384547 107426.72922962 147288.10337716\n",
      " 121368.02967234 226861.47081615 239298.98937398 202906.22018147\n",
      " 225453.12386879 115540.93321802 265343.81982727 245072.04720853\n",
      " 190575.2500785  204591.64085515 142831.95483368 109749.15018271\n",
      " 150359.60051647 204266.56719661 109605.103787   177893.73533119\n",
      " 187433.31129039 150458.83109367  86549.0092325  237449.37842649\n",
      " 207660.71634146 150190.68049066 279801.6626148  160492.96057904\n",
      " 103602.6134277  142672.71800778  77679.02838959 202239.36355199\n",
      " 185170.53642648  70262.36367625 444507.14366415 321275.99638532\n",
      " 205830.90488054 256570.01380993 162017.52489276 320737.68609533\n",
      " 223594.87751147 316810.40207439 224660.50803972 112869.89727189\n",
      " 128613.27469574 172579.76575448 316213.11950125 290169.22578981\n",
      " 137563.44744039 224798.6081323  238164.03692669 189278.67780261\n",
      " 111039.81118104  81217.90687686 406484.53691353 222215.14023661\n",
      " 244623.4193353  220273.49363746 133736.11134009 119088.42729482\n",
      " 166053.06886836 236337.87904204 150646.66135562 131697.41877195\n",
      " 208900.3923169  265939.17282212 140088.04840029 203368.44059807\n",
      " 208054.00741389 175703.74349312 330370.4926025  117304.85404781\n",
      " 122668.50799592 140628.00200113 206687.62533896 123604.5709292\n",
      " 103953.04149704 227960.41324679 133703.16539377 116121.49100825\n",
      "  91842.60898494 149339.60656519 270802.33189537 216688.74777866\n",
      "  98244.13974214  78393.93955612 114976.24838177 105079.69036909\n",
      " 137456.91969645  74928.05359179  99683.35942959 174375.47915641\n",
      " 158198.70151109 187756.72186801 279745.84788693 249021.0537193\n",
      " 146618.35638264 181111.5988966  348797.76628051 121151.87196823\n",
      " 113941.77373148  77086.65549121 101252.36939387 267754.66519589\n",
      " 191795.73288708 132223.26848103 132555.01969086 229174.83246099\n",
      " 251719.59156372 240766.78152711 258032.29208483 137582.8214444\n",
      " 351782.89110547 391065.5703236  296232.38405297 220508.18872342\n",
      " 103539.54867304  83608.95474541 134863.82636282 156235.94585411\n",
      " 262760.56893883 119181.49599367 109595.44047036 137242.52179131\n",
      " 195240.30255409 209582.42727807 137098.86663333 143761.39628032\n",
      " 181796.15510394 138653.65796442 175358.39971308  94358.02581091\n",
      " 154168.69064135  60639.59279707 114735.37867468 101568.29127798\n",
      " 173404.84274042 193449.44433972  96763.34229483 116697.11593037\n",
      " 170631.89415042 285137.5086127  242793.72872721 172096.26859622\n",
      " 100120.53362377 204419.02891617 148429.0833852  154662.96062587\n",
      " 165166.88581326 125357.10022638 286777.96925059 128117.45536574\n",
      " 255878.69523316 152471.1954295  208594.15011798 238064.27649475\n",
      " 123296.30937623 154579.06516015 102937.68251739 108525.49287426\n",
      " 155867.60947042 199548.00852544 278153.92726333 226397.66940415\n",
      " 203335.64223307 209283.42920018 124063.51275089 198688.13877647\n",
      " 109950.63795187 140225.94688534 389916.84185581 150269.915454\n",
      " 297650.88618139 183797.68454875 293721.88240871 219244.1488096\n",
      " 109201.92237098 159273.36280784 123019.37745682 372255.27251115\n",
      " 352142.36002951 233134.33456248 199590.18475077 160925.7917183\n",
      " 198077.76380451 133980.16518125 112677.06222229 107691.35025465\n",
      " 351624.67430946 175120.50987213 117314.60560024 165049.70050067\n",
      "  51677.56949304 196081.53120018 199195.68869542 147481.05464614\n",
      "  55539.18109058 200869.28588621 203243.19882473 140189.03576776\n",
      " 278899.57495889 129129.07497257 107465.6931158  128065.86353663\n",
      " 241255.83095386 311858.7509581  129367.89535316  87897.97133665\n",
      " 159455.95653365 231576.93775743 144528.19664547 246901.78854833\n",
      " 336357.17580474 129796.99019688 230607.6966872  109708.49363047\n",
      " 160538.29311706 230449.43787799 120878.27004215 211141.63044597\n",
      " 101649.59597806 195511.66139077 375715.83214331 182117.33923314\n",
      " 206959.06757165 157495.4785995  248864.72905117 105380.97811965\n",
      " 157849.15230741 111218.4106076  198866.98209209  83278.84280795\n",
      " 303916.74041767 215619.98886303 178942.739725   165016.94805316\n",
      " 133486.78276756 179430.08251145 130153.98565387 127099.86024174\n",
      " 189713.27184671 140962.31777163 218243.27260945  36333.27652494\n",
      "  98875.02933441 303806.25558443 177821.39783649 248002.68326969\n",
      " 256109.12480793 248434.79920555 132996.19397201 210263.1807606\n",
      " 239087.85581221 232471.15759985 112977.10268909 228780.47596231\n",
      " 123569.72801415 155940.50525518 129677.59301975 152676.25919608\n",
      " 591835.55884414 122080.61077931 210685.94562313 253406.09370992\n",
      " 223508.68046905 114560.85228366 145820.04491513 147260.43387218\n",
      " 221240.14518822 192815.44046466  96735.14815372 221443.06165537\n",
      " 204143.59710386  99695.70283895 138493.90957211  86311.80432134\n",
      " 194123.89146166  71410.45592196 204317.26276124 133291.60167041\n",
      " 180042.91046336 285848.40885717 130810.09365596 188773.6392792\n",
      " 176073.50626451 193150.98156684 148549.92197316 106354.74428669\n",
      " 197218.68036422 177322.97709181 242508.6906138  403210.51993111\n",
      " 179549.13048038 128127.309122   144180.90886237 170969.26858561\n",
      "  91026.57443409 195847.52809387 226981.6370847  219795.94474446\n",
      " 143033.10747537 223900.68821882 167428.53371969 256654.21487544\n",
      "  77074.90612271 109361.21943662 253371.27206094 115835.02422061\n",
      " 134259.19674351 132798.28864724 153718.17703312  42946.17462254\n",
      " 196631.44772157 149135.84368795 217028.38305818 280021.79360237\n",
      " 282818.43003443 108979.82170681 132970.69276029  94229.42410482\n",
      " 134783.49047303 238223.17224758 421696.89991902 180452.50152446\n",
      " 130535.98931978 111203.82845844  26096.90624325 121455.52543249\n",
      " 221963.90247497 150423.74488179 180007.91023605 191781.47535014\n",
      " 123086.38044346  80913.0295734  246069.29075538 155336.6464531\n",
      " 159831.4823695  156422.75641014  75898.76102639  81659.577123\n",
      " 166379.90078319 220829.66866547 333646.65645807 230103.19852758\n",
      " 130635.71769195 102006.78071102 306171.21908846 141833.59750603\n",
      " 302115.4454314  108000.44940041 206621.68181924 233328.15586787\n",
      "  86170.09628075 118141.16044124 154198.34553916  96784.6224534\n",
      " 188280.51242079 108864.5122792  148513.28909457 182044.93378364\n",
      " 139671.60061923 131008.46719722 139656.33514757 122585.82281718\n",
      " 212538.72517251 117900.27492359 157348.16943805 160808.65510456\n",
      " 135395.21888154 108339.94164272 169763.90893214 148053.81364491\n",
      " 138173.48798134 172080.34190156 137788.90738425 171099.7911546\n",
      " 100854.0772358  150611.0600062  170245.89507009 283073.32300085\n",
      "  90288.65412387 126926.14700859 185835.17750756 143809.28892576\n",
      " 122255.48883711 265095.15723031 230791.93308705 123764.40309904\n",
      " 118906.38641437 145134.05314035 142410.65881553 334815.89477108\n",
      " 234850.01585992 142527.33839488 146985.31031394 112243.24200604\n",
      " 402521.43831363 137005.10309661 177996.20873679 108298.64331255\n",
      " 187707.52348735 220630.6741463   65272.91370126 150767.32238791\n",
      " 122938.31176512 151323.52041097 114372.74493914 131869.72261252\n",
      " 343951.1735842  220479.27520103 177833.10854059 144861.34962069\n",
      "  25902.68709354 192095.39420286 256662.68990646  79636.0126888\n",
      " 204908.29509532 201959.81893385 119934.00527216 160690.32533592\n",
      " 100473.42245303 135910.79158289 156623.46115817 188500.23391037\n",
      " 110360.05470963 322931.05320519 136388.15062691 194157.51498293\n",
      " 184523.23368432 132713.57803896  29433.94525373 176529.18775663\n",
      " 200217.16293595 131593.85159905 146570.86784776 148574.07516757\n",
      " 159514.75312149 312912.50049435 125082.60254043 258237.42429465\n",
      " 262011.84566828 177280.74011076  76360.05578711 224324.3320054\n",
      " 190749.84656412 135028.728126   187162.29517581 142569.29430868\n",
      " 114589.73783876  99346.81201919 165639.57170698  76291.55322424\n",
      " 167650.00137574 206375.66835999 149204.51589736 278373.20280401\n",
      " 184251.91724765 160733.11494309 171009.63107967 182388.9234998\n",
      " 236059.04869636 392739.33620129 221121.13671468 195779.25993895\n",
      " 191990.44084998 174940.89614632 251663.24678367 229086.74920474\n",
      " 249076.79479737 264692.04997993 148646.22718633 130027.64740384\n",
      " 141704.25424987 133378.03456893  93972.12987553 144738.00422903\n",
      " 111468.91230928 334113.89596488 219008.61127035 184863.48130234\n",
      " 223487.71840824 201146.71995565 163208.01610461 193702.24005078\n",
      " 432172.38395387 144803.79382211 155507.86936127  71599.91920107\n",
      " 131323.03760732 300854.8158929  115801.2740357  229951.45761505\n",
      " 165690.56965876 205089.6481188  367146.73222504 106366.23651144\n",
      " 237306.701833   146561.33064899 135416.61056562 162963.97049809\n",
      " 120495.72978961 280253.55850502 263864.18372905 153875.42411193\n",
      " 129844.78741797 107320.34623086 350165.47369804 218619.86885452\n",
      "  98283.87707618 128569.07362385 141604.23062062 124160.82307313\n",
      " 220925.80092567 300908.89641937 221010.13554959 193065.19941153\n",
      " 201422.11212021 216193.21553199 269035.89048197 153533.68788034\n",
      " 122090.80236117 300649.11554971 189897.29858982 186486.5286814\n",
      " 124936.64331385 254494.07224943  88582.59641429 235213.30663883\n",
      " 201787.79704525 230711.6625603  163633.11613269 183655.04989874\n",
      " 172694.54830054 141667.83251695 174023.40733508 141846.87630393\n",
      " 118954.96536488 214505.54031751 240677.63622046 140499.84601858\n",
      "  98268.53458641 226252.16320457 181753.81815951 198497.88601499\n",
      " 204307.51673958 102874.14570534 309676.25972604 254090.12806383\n",
      " 147797.41978103 147195.47592867 176137.62571861 176126.49920958\n",
      " 135972.69264123 429644.18932181  89254.1623422  147372.61729297\n",
      " 239171.21158289 159883.31953829 219676.13841746 120776.28565528\n",
      " 244400.65846341 193923.2072309  273410.63286556 187284.86286557\n",
      " 191206.04058369 308084.93945917 157833.59294547 282518.61697828\n",
      " 169723.90224155 115977.86761117 212626.49679197 132350.06958222\n",
      " 129784.12181467 218513.76006952 147143.19712685 137673.41566306\n",
      " 161919.35621389 196161.57556403 399650.73937487  75189.45924854\n",
      " 137089.36395371 139729.20818449 164428.53811861 230193.15603455\n",
      " 122333.08211073 255361.06432755 171980.41842418 201579.28505287\n",
      " 232323.53007135 178477.79840094 308523.38616511 142526.87108183\n",
      " 175029.32259308 166008.79353193 244723.54596109 224943.17523109\n",
      " 221591.82130345 118374.08753865 107782.23706717 189271.05852445\n",
      "  89374.45042435 235697.51918342 116469.34259879 129479.62432582\n",
      " 185168.7035463  151159.89409912 108417.15821514 128392.77839492\n",
      " 346407.07424938 175835.59832317 167198.94452853 244149.10419345\n",
      " 215134.74405746 200986.80022683  75094.92536521  99752.01193364\n",
      " 168147.12988674 151459.28398246  83121.40737913 351791.9440971\n",
      " 145413.38070138 198474.1131692  215244.71974272 345822.93079063\n",
      " 144673.50610389 189204.08805439 146234.6000506  160736.0145937\n",
      " 131947.03458663 274039.80121696 228679.36370932 159379.96304188\n",
      " 114435.47817133 341561.69275944 170937.88911232 146188.59081983\n",
      " 125625.06989869 215615.43622549 195726.8312113  208996.80032679\n",
      " 105730.54839194 177757.78325769 162622.21823435 223284.59792007\n",
      " 251977.25732556 114576.00741931 177091.06755044 179146.82437979\n",
      " 186732.2883902  132338.13599396 167593.859681   174553.32598819\n",
      "  91594.95819111 265611.60130996  83159.54191069 190268.66544532\n",
      " 132939.45195924 352482.88523553 124242.36468624 130556.3279149\n",
      " 170902.82011057 157027.61244955 189128.11889578 211772.70447992\n",
      " 262190.42023865 160684.3473494  174700.42608151 221746.93663271\n",
      " 330733.4313723  205128.05975701 208985.88165991 211892.70128681\n",
      " 129494.11064505 103465.56918027 124191.90684529]\n"
     ]
    }
   ],
   "source": [
    "#predict y using the ridge model\n",
    "y_pred_ridge = ridge.predict(test_test_sc)\n",
    "\n",
    "#check root mean squared error (RMSE)\n",
    "#np.sqrt(mean_squared_error(y_test, y_pred))\n",
    "print(y_pred_ridge)"
   ]
  },
  {
   "cell_type": "code",
   "execution_count": 83,
   "metadata": {},
   "outputs": [
    {
     "data": {
      "text/plain": [
       "Index(['Lot Frontage', 'Lot Area', 'Overall Qual', 'Overall Cond',\n",
       "       'Year Built', 'Year Remod/Add', 'Mas Vnr Area', 'BsmtFin SF 1',\n",
       "       'Bsmt Unf SF', 'Total Bsmt SF',\n",
       "       ...\n",
       "       'Garage Cond_Po', 'Garage Cond_TA', 'Paved Drive_P', 'Paved Drive_Y',\n",
       "       'Fence_GdWo', 'Fence_MnPrv', 'Fence_No Fence', 'Sale Type_ConLD',\n",
       "       'Sale Type_New', 'Sale Type_WD '],\n",
       "      dtype='object', length=173)"
      ]
     },
     "execution_count": 83,
     "metadata": {},
     "output_type": "execute_result"
    }
   ],
   "source": [
    "#change back to drop Id and PID depending on code\n",
    "#################test_features = test.columns.drop(['Id', 'PID'])\n",
    "# dropping Id and PID because they hold no sway on our prices\n",
    "test_features = test.columns\n",
    "\n",
    "test_features"
   ]
  },
  {
   "cell_type": "code",
   "execution_count": 84,
   "metadata": {},
   "outputs": [
    {
     "data": {
      "text/plain": [
       "Index(['Lot Frontage', 'Lot Area', 'Overall Qual', 'Overall Cond',\n",
       "       'Year Built', 'Year Remod/Add', 'Mas Vnr Area', 'BsmtFin SF 1',\n",
       "       'Bsmt Unf SF', 'Total Bsmt SF',\n",
       "       ...\n",
       "       'Garage Cond_Po', 'Garage Cond_TA', 'Paved Drive_P', 'Paved Drive_Y',\n",
       "       'Fence_GdWo', 'Fence_MnPrv', 'Fence_No Fence', 'Sale Type_ConLD',\n",
       "       'Sale Type_New', 'Sale Type_WD '],\n",
       "      dtype='object', length=173)"
      ]
     },
     "execution_count": 84,
     "metadata": {},
     "output_type": "execute_result"
    }
   ],
   "source": [
    "features"
   ]
  },
  {
   "cell_type": "code",
   "execution_count": 85,
   "metadata": {},
   "outputs": [
    {
     "data": {
      "text/plain": [
       "(2051, 173)"
      ]
     },
     "execution_count": 85,
     "metadata": {},
     "output_type": "execute_result"
    }
   ],
   "source": [
    "train[test_features].shape"
   ]
  },
  {
   "cell_type": "code",
   "execution_count": 86,
   "metadata": {},
   "outputs": [
    {
     "data": {
      "text/plain": [
       "(879, 173)"
      ]
     },
     "execution_count": 86,
     "metadata": {},
     "output_type": "execute_result"
    }
   ],
   "source": [
    "test[features].shape"
   ]
  },
  {
   "cell_type": "code",
   "execution_count": 87,
   "metadata": {},
   "outputs": [
    {
     "data": {
      "text/plain": [
       "(879, 173)"
      ]
     },
     "execution_count": 87,
     "metadata": {},
     "output_type": "execute_result"
    }
   ],
   "source": [
    "test[test_features].shape"
   ]
  },
  {
   "cell_type": "code",
   "execution_count": 88,
   "metadata": {},
   "outputs": [
    {
     "data": {
      "text/html": [
       "<div>\n",
       "<style scoped>\n",
       "    .dataframe tbody tr th:only-of-type {\n",
       "        vertical-align: middle;\n",
       "    }\n",
       "\n",
       "    .dataframe tbody tr th {\n",
       "        vertical-align: top;\n",
       "    }\n",
       "\n",
       "    .dataframe thead th {\n",
       "        text-align: right;\n",
       "    }\n",
       "</style>\n",
       "<table border=\"1\" class=\"dataframe\">\n",
       "  <thead>\n",
       "    <tr style=\"text-align: right;\">\n",
       "      <th></th>\n",
       "      <th>Lot Frontage</th>\n",
       "      <th>Lot Area</th>\n",
       "      <th>Overall Qual</th>\n",
       "      <th>Overall Cond</th>\n",
       "      <th>Year Built</th>\n",
       "      <th>Year Remod/Add</th>\n",
       "      <th>Mas Vnr Area</th>\n",
       "      <th>BsmtFin SF 1</th>\n",
       "      <th>Bsmt Unf SF</th>\n",
       "      <th>Total Bsmt SF</th>\n",
       "      <th>...</th>\n",
       "      <th>Garage Cond_Po</th>\n",
       "      <th>Garage Cond_TA</th>\n",
       "      <th>Paved Drive_P</th>\n",
       "      <th>Paved Drive_Y</th>\n",
       "      <th>Fence_GdWo</th>\n",
       "      <th>Fence_MnPrv</th>\n",
       "      <th>Fence_No Fence</th>\n",
       "      <th>Sale Type_ConLD</th>\n",
       "      <th>Sale Type_New</th>\n",
       "      <th>Sale Type_WD</th>\n",
       "    </tr>\n",
       "  </thead>\n",
       "  <tbody>\n",
       "    <tr>\n",
       "      <th>0</th>\n",
       "      <td>69.0</td>\n",
       "      <td>9142</td>\n",
       "      <td>6</td>\n",
       "      <td>8</td>\n",
       "      <td>1910</td>\n",
       "      <td>1950</td>\n",
       "      <td>0.0</td>\n",
       "      <td>0</td>\n",
       "      <td>1020</td>\n",
       "      <td>1020</td>\n",
       "      <td>...</td>\n",
       "      <td>1</td>\n",
       "      <td>0</td>\n",
       "      <td>0</td>\n",
       "      <td>1</td>\n",
       "      <td>0</td>\n",
       "      <td>0</td>\n",
       "      <td>1</td>\n",
       "      <td>0</td>\n",
       "      <td>0</td>\n",
       "      <td>1</td>\n",
       "    </tr>\n",
       "    <tr>\n",
       "      <th>1</th>\n",
       "      <td>0.0</td>\n",
       "      <td>9662</td>\n",
       "      <td>5</td>\n",
       "      <td>4</td>\n",
       "      <td>1977</td>\n",
       "      <td>1977</td>\n",
       "      <td>0.0</td>\n",
       "      <td>0</td>\n",
       "      <td>1967</td>\n",
       "      <td>1967</td>\n",
       "      <td>...</td>\n",
       "      <td>0</td>\n",
       "      <td>1</td>\n",
       "      <td>0</td>\n",
       "      <td>1</td>\n",
       "      <td>0</td>\n",
       "      <td>0</td>\n",
       "      <td>1</td>\n",
       "      <td>0</td>\n",
       "      <td>0</td>\n",
       "      <td>1</td>\n",
       "    </tr>\n",
       "    <tr>\n",
       "      <th>2</th>\n",
       "      <td>58.0</td>\n",
       "      <td>17104</td>\n",
       "      <td>7</td>\n",
       "      <td>5</td>\n",
       "      <td>2006</td>\n",
       "      <td>2006</td>\n",
       "      <td>0.0</td>\n",
       "      <td>554</td>\n",
       "      <td>100</td>\n",
       "      <td>654</td>\n",
       "      <td>...</td>\n",
       "      <td>0</td>\n",
       "      <td>1</td>\n",
       "      <td>0</td>\n",
       "      <td>1</td>\n",
       "      <td>0</td>\n",
       "      <td>0</td>\n",
       "      <td>1</td>\n",
       "      <td>0</td>\n",
       "      <td>1</td>\n",
       "      <td>0</td>\n",
       "    </tr>\n",
       "    <tr>\n",
       "      <th>3</th>\n",
       "      <td>60.0</td>\n",
       "      <td>8520</td>\n",
       "      <td>5</td>\n",
       "      <td>6</td>\n",
       "      <td>1923</td>\n",
       "      <td>2006</td>\n",
       "      <td>0.0</td>\n",
       "      <td>0</td>\n",
       "      <td>968</td>\n",
       "      <td>968</td>\n",
       "      <td>...</td>\n",
       "      <td>0</td>\n",
       "      <td>1</td>\n",
       "      <td>0</td>\n",
       "      <td>0</td>\n",
       "      <td>0</td>\n",
       "      <td>0</td>\n",
       "      <td>1</td>\n",
       "      <td>0</td>\n",
       "      <td>0</td>\n",
       "      <td>1</td>\n",
       "    </tr>\n",
       "    <tr>\n",
       "      <th>4</th>\n",
       "      <td>0.0</td>\n",
       "      <td>9500</td>\n",
       "      <td>6</td>\n",
       "      <td>5</td>\n",
       "      <td>1963</td>\n",
       "      <td>1963</td>\n",
       "      <td>247.0</td>\n",
       "      <td>609</td>\n",
       "      <td>785</td>\n",
       "      <td>1394</td>\n",
       "      <td>...</td>\n",
       "      <td>0</td>\n",
       "      <td>1</td>\n",
       "      <td>0</td>\n",
       "      <td>1</td>\n",
       "      <td>0</td>\n",
       "      <td>0</td>\n",
       "      <td>1</td>\n",
       "      <td>0</td>\n",
       "      <td>0</td>\n",
       "      <td>1</td>\n",
       "    </tr>\n",
       "  </tbody>\n",
       "</table>\n",
       "<p>5 rows × 173 columns</p>\n",
       "</div>"
      ],
      "text/plain": [
       "   Lot Frontage  Lot Area  Overall Qual  Overall Cond  Year Built  \\\n",
       "0          69.0      9142             6             8        1910   \n",
       "1           0.0      9662             5             4        1977   \n",
       "2          58.0     17104             7             5        2006   \n",
       "3          60.0      8520             5             6        1923   \n",
       "4           0.0      9500             6             5        1963   \n",
       "\n",
       "   Year Remod/Add  Mas Vnr Area  BsmtFin SF 1  Bsmt Unf SF  Total Bsmt SF  \\\n",
       "0            1950           0.0             0         1020           1020   \n",
       "1            1977           0.0             0         1967           1967   \n",
       "2            2006           0.0           554          100            654   \n",
       "3            2006           0.0             0          968            968   \n",
       "4            1963         247.0           609          785           1394   \n",
       "\n",
       "   ...  Garage Cond_Po  Garage Cond_TA  Paved Drive_P  Paved Drive_Y  \\\n",
       "0  ...               1               0              0              1   \n",
       "1  ...               0               1              0              1   \n",
       "2  ...               0               1              0              1   \n",
       "3  ...               0               1              0              0   \n",
       "4  ...               0               1              0              1   \n",
       "\n",
       "   Fence_GdWo  Fence_MnPrv  Fence_No Fence  Sale Type_ConLD  Sale Type_New  \\\n",
       "0           0            0               1                0              0   \n",
       "1           0            0               1                0              0   \n",
       "2           0            0               1                0              1   \n",
       "3           0            0               1                0              0   \n",
       "4           0            0               1                0              0   \n",
       "\n",
       "   Sale Type_WD   \n",
       "0              1  \n",
       "1              1  \n",
       "2              0  \n",
       "3              1  \n",
       "4              1  \n",
       "\n",
       "[5 rows x 173 columns]"
      ]
     },
     "execution_count": 88,
     "metadata": {},
     "output_type": "execute_result"
    }
   ],
   "source": [
    "test[features].head()"
   ]
  },
  {
   "cell_type": "code",
   "execution_count": 89,
   "metadata": {},
   "outputs": [
    {
     "data": {
      "text/html": [
       "<div>\n",
       "<style scoped>\n",
       "    .dataframe tbody tr th:only-of-type {\n",
       "        vertical-align: middle;\n",
       "    }\n",
       "\n",
       "    .dataframe tbody tr th {\n",
       "        vertical-align: top;\n",
       "    }\n",
       "\n",
       "    .dataframe thead th {\n",
       "        text-align: right;\n",
       "    }\n",
       "</style>\n",
       "<table border=\"1\" class=\"dataframe\">\n",
       "  <thead>\n",
       "    <tr style=\"text-align: right;\">\n",
       "      <th></th>\n",
       "      <th>Lot Frontage</th>\n",
       "      <th>Lot Area</th>\n",
       "      <th>Overall Qual</th>\n",
       "      <th>Overall Cond</th>\n",
       "      <th>Year Built</th>\n",
       "      <th>Year Remod/Add</th>\n",
       "      <th>Mas Vnr Area</th>\n",
       "      <th>BsmtFin SF 1</th>\n",
       "      <th>Bsmt Unf SF</th>\n",
       "      <th>Total Bsmt SF</th>\n",
       "      <th>...</th>\n",
       "      <th>Garage Cond_Po</th>\n",
       "      <th>Garage Cond_TA</th>\n",
       "      <th>Paved Drive_P</th>\n",
       "      <th>Paved Drive_Y</th>\n",
       "      <th>Fence_GdWo</th>\n",
       "      <th>Fence_MnPrv</th>\n",
       "      <th>Fence_No Fence</th>\n",
       "      <th>Sale Type_ConLD</th>\n",
       "      <th>Sale Type_New</th>\n",
       "      <th>Sale Type_WD</th>\n",
       "    </tr>\n",
       "  </thead>\n",
       "  <tbody>\n",
       "    <tr>\n",
       "      <th>0</th>\n",
       "      <td>69.0</td>\n",
       "      <td>9142</td>\n",
       "      <td>6</td>\n",
       "      <td>8</td>\n",
       "      <td>1910</td>\n",
       "      <td>1950</td>\n",
       "      <td>0.0</td>\n",
       "      <td>0</td>\n",
       "      <td>1020</td>\n",
       "      <td>1020</td>\n",
       "      <td>...</td>\n",
       "      <td>1</td>\n",
       "      <td>0</td>\n",
       "      <td>0</td>\n",
       "      <td>1</td>\n",
       "      <td>0</td>\n",
       "      <td>0</td>\n",
       "      <td>1</td>\n",
       "      <td>0</td>\n",
       "      <td>0</td>\n",
       "      <td>1</td>\n",
       "    </tr>\n",
       "    <tr>\n",
       "      <th>1</th>\n",
       "      <td>0.0</td>\n",
       "      <td>9662</td>\n",
       "      <td>5</td>\n",
       "      <td>4</td>\n",
       "      <td>1977</td>\n",
       "      <td>1977</td>\n",
       "      <td>0.0</td>\n",
       "      <td>0</td>\n",
       "      <td>1967</td>\n",
       "      <td>1967</td>\n",
       "      <td>...</td>\n",
       "      <td>0</td>\n",
       "      <td>1</td>\n",
       "      <td>0</td>\n",
       "      <td>1</td>\n",
       "      <td>0</td>\n",
       "      <td>0</td>\n",
       "      <td>1</td>\n",
       "      <td>0</td>\n",
       "      <td>0</td>\n",
       "      <td>1</td>\n",
       "    </tr>\n",
       "    <tr>\n",
       "      <th>2</th>\n",
       "      <td>58.0</td>\n",
       "      <td>17104</td>\n",
       "      <td>7</td>\n",
       "      <td>5</td>\n",
       "      <td>2006</td>\n",
       "      <td>2006</td>\n",
       "      <td>0.0</td>\n",
       "      <td>554</td>\n",
       "      <td>100</td>\n",
       "      <td>654</td>\n",
       "      <td>...</td>\n",
       "      <td>0</td>\n",
       "      <td>1</td>\n",
       "      <td>0</td>\n",
       "      <td>1</td>\n",
       "      <td>0</td>\n",
       "      <td>0</td>\n",
       "      <td>1</td>\n",
       "      <td>0</td>\n",
       "      <td>1</td>\n",
       "      <td>0</td>\n",
       "    </tr>\n",
       "    <tr>\n",
       "      <th>3</th>\n",
       "      <td>60.0</td>\n",
       "      <td>8520</td>\n",
       "      <td>5</td>\n",
       "      <td>6</td>\n",
       "      <td>1923</td>\n",
       "      <td>2006</td>\n",
       "      <td>0.0</td>\n",
       "      <td>0</td>\n",
       "      <td>968</td>\n",
       "      <td>968</td>\n",
       "      <td>...</td>\n",
       "      <td>0</td>\n",
       "      <td>1</td>\n",
       "      <td>0</td>\n",
       "      <td>0</td>\n",
       "      <td>0</td>\n",
       "      <td>0</td>\n",
       "      <td>1</td>\n",
       "      <td>0</td>\n",
       "      <td>0</td>\n",
       "      <td>1</td>\n",
       "    </tr>\n",
       "    <tr>\n",
       "      <th>4</th>\n",
       "      <td>0.0</td>\n",
       "      <td>9500</td>\n",
       "      <td>6</td>\n",
       "      <td>5</td>\n",
       "      <td>1963</td>\n",
       "      <td>1963</td>\n",
       "      <td>247.0</td>\n",
       "      <td>609</td>\n",
       "      <td>785</td>\n",
       "      <td>1394</td>\n",
       "      <td>...</td>\n",
       "      <td>0</td>\n",
       "      <td>1</td>\n",
       "      <td>0</td>\n",
       "      <td>1</td>\n",
       "      <td>0</td>\n",
       "      <td>0</td>\n",
       "      <td>1</td>\n",
       "      <td>0</td>\n",
       "      <td>0</td>\n",
       "      <td>1</td>\n",
       "    </tr>\n",
       "  </tbody>\n",
       "</table>\n",
       "<p>5 rows × 173 columns</p>\n",
       "</div>"
      ],
      "text/plain": [
       "   Lot Frontage  Lot Area  Overall Qual  Overall Cond  Year Built  \\\n",
       "0          69.0      9142             6             8        1910   \n",
       "1           0.0      9662             5             4        1977   \n",
       "2          58.0     17104             7             5        2006   \n",
       "3          60.0      8520             5             6        1923   \n",
       "4           0.0      9500             6             5        1963   \n",
       "\n",
       "   Year Remod/Add  Mas Vnr Area  BsmtFin SF 1  Bsmt Unf SF  Total Bsmt SF  \\\n",
       "0            1950           0.0             0         1020           1020   \n",
       "1            1977           0.0             0         1967           1967   \n",
       "2            2006           0.0           554          100            654   \n",
       "3            2006           0.0             0          968            968   \n",
       "4            1963         247.0           609          785           1394   \n",
       "\n",
       "   ...  Garage Cond_Po  Garage Cond_TA  Paved Drive_P  Paved Drive_Y  \\\n",
       "0  ...               1               0              0              1   \n",
       "1  ...               0               1              0              1   \n",
       "2  ...               0               1              0              1   \n",
       "3  ...               0               1              0              0   \n",
       "4  ...               0               1              0              1   \n",
       "\n",
       "   Fence_GdWo  Fence_MnPrv  Fence_No Fence  Sale Type_ConLD  Sale Type_New  \\\n",
       "0           0            0               1                0              0   \n",
       "1           0            0               1                0              0   \n",
       "2           0            0               1                0              1   \n",
       "3           0            0               1                0              0   \n",
       "4           0            0               1                0              0   \n",
       "\n",
       "   Sale Type_WD   \n",
       "0              1  \n",
       "1              1  \n",
       "2              0  \n",
       "3              1  \n",
       "4              1  \n",
       "\n",
       "[5 rows x 173 columns]"
      ]
     },
     "execution_count": 89,
     "metadata": {},
     "output_type": "execute_result"
    }
   ],
   "source": [
    "test[features].head()"
   ]
  },
  {
   "cell_type": "code",
   "execution_count": 90,
   "metadata": {},
   "outputs": [],
   "source": [
    "#mean\n",
    "#ybar = test.SalePrice.mean()"
   ]
  },
  {
   "cell_type": "markdown",
   "metadata": {},
   "source": [
    "## Preparing Submissions To Submit to Kaggle"
   ]
  },
  {
   "cell_type": "code",
   "execution_count": 91,
   "metadata": {},
   "outputs": [],
   "source": [
    "#read clean_test.csv into 'test' to get id values\n",
    "clean_test = pd.read_csv('./datasets/clean_test.csv')"
   ]
  },
  {
   "cell_type": "code",
   "execution_count": 92,
   "metadata": {},
   "outputs": [
    {
     "data": {
      "text/plain": [
       "array([5.18681357e+07, 5.52237589e+07, 5.13164383e+07, 3.63431382e+07,\n",
       "       4.62808251e+07, 3.24027352e+07, 3.82293027e+07, 4.26231312e+07,\n",
       "       4.36992250e+07, 4.33162939e+07, 3.99741140e+07, 3.65406158e+07,\n",
       "       4.57686721e+07, 6.55676129e+07, 5.21242120e+07, 4.12128969e+07,\n",
       "       4.53551912e+07, 3.90848689e+07, 5.27432807e+07, 5.53803083e+07,\n",
       "       3.82836631e+07, 3.46390738e+07, 4.76859369e+07, 4.70602075e+07,\n",
       "       4.20164375e+07, 3.36197234e+07, 5.10993458e+07, 4.81409608e+07,\n",
       "       3.84994489e+07, 2.65053043e+07, 3.36501754e+07, 3.78472991e+07,\n",
       "       6.56048856e+07, 4.15740060e+07, 4.92784016e+07, 4.76408083e+07,\n",
       "       4.50372137e+07, 3.53845584e+07, 3.43174313e+07, 4.27198614e+07,\n",
       "       3.66880923e+07, 5.32857862e+07, 4.14040121e+07, 4.86373820e+07,\n",
       "       4.36720192e+07, 3.60907626e+07, 5.20813173e+07, 3.58699549e+07,\n",
       "       3.44956544e+07, 3.69448224e+07, 4.13143313e+07, 5.57572519e+07,\n",
       "       4.93993913e+07, 4.11848600e+07, 3.72516052e+07, 3.72392628e+07,\n",
       "       5.02307792e+07, 4.35013849e+07, 4.25124460e+07, 5.23178516e+07,\n",
       "       5.89236357e+07, 4.30719217e+07, 4.52047071e+07, 5.11316473e+07,\n",
       "       4.51313158e+07, 5.96658820e+07, 3.42591028e+07, 3.95867623e+07,\n",
       "       2.91369046e+07, 3.19305660e+07, 3.02407508e+07, 7.41261229e+07,\n",
       "       6.16764585e+07, 4.55915286e+07, 3.84784023e+07, 5.82084285e+07,\n",
       "       1.26467686e+08, 5.78654478e+07, 4.17759713e+07, 3.30902827e+07,\n",
       "       5.80800679e+07, 4.59810260e+07, 3.91285978e+07, 3.80209706e+07,\n",
       "       4.32907599e+07, 5.10032491e+07, 5.99186037e+07, 3.40695685e+07,\n",
       "       5.03410011e+07, 5.83228183e+07, 4.42564660e+07, 3.64907769e+07,\n",
       "       4.40318325e+07, 3.92786177e+07, 3.83363070e+07, 3.88663446e+07,\n",
       "       4.74439758e+07, 4.93499644e+07, 4.44305202e+07, 4.75079121e+07,\n",
       "       4.72737233e+07, 5.60156829e+07, 5.48999718e+07, 3.47264036e+07,\n",
       "       6.96752342e+07, 4.40254901e+07, 3.06368651e+07, 4.43200066e+07,\n",
       "       5.97630272e+07, 5.53020774e+07, 5.36793278e+07, 4.73644421e+07,\n",
       "       5.03580305e+07, 4.36225252e+07, 4.66404335e+07, 5.23725992e+07,\n",
       "       1.05982269e+08, 4.77754671e+07, 3.67895835e+07, 5.30853637e+07,\n",
       "       4.80502060e+07, 5.95695255e+07, 5.70729734e+07, 5.04169816e+07,\n",
       "       4.85031378e+07, 5.37878584e+07, 6.30790891e+07, 3.54644149e+07,\n",
       "       3.74883808e+07, 3.70519798e+07, 5.03987062e+07, 3.80446943e+07,\n",
       "       4.76557680e+07, 4.56727774e+07, 4.23102959e+07, 4.10612226e+07,\n",
       "       5.83475515e+07, 4.49303128e+07, 4.30905412e+07, 3.95894196e+07,\n",
       "       3.65877817e+07, 4.40908511e+07, 3.96011580e+07, 4.51826044e+07,\n",
       "       6.36671813e+07, 3.68125650e+07, 5.21989116e+07, 4.86151640e+07,\n",
       "       4.50149801e+07, 3.42573057e+07, 5.58452716e+07, 5.07825113e+07,\n",
       "       4.85931267e+07, 3.74360364e+07, 3.47877939e+07, 3.38191801e+07,\n",
       "       3.82708234e+07, 3.23659798e+07, 3.60988643e+07, 5.88465460e+07,\n",
       "       5.97428622e+07, 5.02746249e+07, 4.22168234e+07, 3.88502944e+07,\n",
       "       7.25049595e+07, 4.53366995e+07, 5.00100690e+07, 4.33933289e+07,\n",
       "       3.57876476e+07, 5.87002781e+07, 4.62668658e+07, 1.00255294e+08,\n",
       "       3.66899033e+07, 5.04205720e+07, 3.53177951e+07, 5.27003758e+07,\n",
       "       4.99333179e+07, 2.88914187e+07, 5.39057422e+07, 3.23731915e+07,\n",
       "       4.07743196e+07, 4.81119251e+07, 5.41862760e+07, 6.32087373e+07,\n",
       "       4.50333479e+07, 4.44760778e+07, 4.04967412e+07, 4.49635560e+07,\n",
       "       5.33333802e+07, 3.76330716e+07, 3.54108434e+07, 4.95975274e+07,\n",
       "       3.18812870e+07, 3.53757575e+07, 3.28984030e+07, 4.58427091e+07,\n",
       "       3.56288641e+07, 5.26828421e+07, 4.54427312e+07, 4.99074960e+07,\n",
       "       3.72435659e+07, 7.01511437e+07, 5.28452789e+07, 3.73295071e+07,\n",
       "       4.90664669e+07, 4.04159123e+07, 3.45480587e+07, 3.89884151e+07,\n",
       "       4.18357189e+07, 4.28157546e+07, 5.68369114e+07, 4.86384773e+07,\n",
       "       5.18857261e+07, 3.87034016e+07, 2.19215262e+08, 4.44781347e+07,\n",
       "       4.84137170e+07, 6.15758596e+07, 3.83758491e+07, 3.28382699e+07,\n",
       "       3.70012362e+07, 4.06092636e+07, 3.70799350e+07, 4.90870638e+07,\n",
       "       4.81863482e+07, 3.46128368e+07, 3.56268144e+07, 6.00043865e+07,\n",
       "       5.36365353e+07, 4.74950550e+07, 6.29125717e+07, 5.49502588e+07,\n",
       "       2.50516911e+07, 4.86193180e+07, 3.26173081e+07, 8.41094929e+07,\n",
       "       4.82858778e+07, 3.18329394e+07, 7.33591211e+07, 6.66216380e+07,\n",
       "       4.01494112e+07, 5.74910889e+07, 4.41905982e+07, 6.30132889e+07,\n",
       "       6.02058235e+07, 5.91335999e+07, 5.11598136e+07, 3.84455967e+07,\n",
       "       3.42753860e+07, 4.95796515e+07, 5.33054709e+07, 4.79960639e+07,\n",
       "       4.60984132e+07, 5.45456170e+07, 5.50962322e+07, 4.67414979e+07,\n",
       "       3.69303881e+07, 3.83776031e+07, 7.80268083e+07, 5.31037319e+07,\n",
       "       6.95060921e+07, 4.40764935e+07, 4.63143304e+07, 3.55361875e+07,\n",
       "       4.19663684e+07, 6.46909637e+07, 4.96545306e+07, 4.25876111e+07,\n",
       "       5.01037623e+07, 4.42449470e+07, 3.39529114e+07, 5.68664219e+07,\n",
       "       4.55937529e+07, 4.70197914e+07, 8.13010270e+07, 3.36296835e+07,\n",
       "       4.66444328e+07, 3.19560981e+07, 5.08209024e+07, 3.47017483e+07,\n",
       "       3.91997595e+07, 5.12283496e+07, 4.67321543e+07, 3.84563320e+07,\n",
       "       3.62542445e+07, 3.78193088e+07, 6.76845501e+07, 6.42385439e+07,\n",
       "       3.18787951e+07, 3.34138717e+07, 4.03707313e+07, 3.53703298e+07,\n",
       "       4.57561160e+07, 3.24023445e+07, 3.26699925e+07, 4.89784674e+07,\n",
       "       3.19260841e+07, 4.84415904e+07, 5.55317899e+07, 4.78967114e+07,\n",
       "       4.67791777e+07, 5.19867717e+07, 5.31288990e+07, 3.61561054e+07,\n",
       "       4.92538999e+07, 2.81396664e+07, 3.74986604e+07, 1.74541613e+08,\n",
       "       4.12192135e+07, 4.14462205e+07, 4.10852964e+07, 6.54709952e+07,\n",
       "       4.04738138e+07, 5.16363780e+07, 6.21579274e+07, 5.99121711e+07,\n",
       "       5.58157207e+07, 5.66445024e+07, 4.75176619e+07, 5.86245676e+07,\n",
       "       3.88928347e+07, 3.17593749e+07, 4.21215126e+07, 4.49680474e+07,\n",
       "       5.11150291e+07, 3.43090451e+07, 3.35654241e+07, 4.19717477e+07,\n",
       "       3.55813843e+07, 5.40563902e+07, 4.87017964e+07, 5.48386417e+07,\n",
       "       5.29927640e+07, 5.50128288e+07, 3.76848672e+07, 3.34055775e+07,\n",
       "       4.82696967e+07, 3.28249387e+07, 4.97309053e+07, 4.14361070e+07,\n",
       "       3.01823388e+07, 6.87064427e+07, 4.47277013e+07, 4.36824916e+07,\n",
       "       4.80705354e+07, 5.99308660e+07, 4.98497361e+07, 5.02681278e+07,\n",
       "       3.60468530e+07, 5.01061795e+07, 4.15169483e+07, 4.88109023e+07,\n",
       "       4.17313602e+07, 3.52597944e+07, 5.17020061e+07, 4.32101324e+07,\n",
       "       7.07586861e+07, 4.54968852e+07, 4.52787547e+07, 5.54270050e+07,\n",
       "       4.45571078e+07, 4.63630200e+07, 6.30837994e+07, 4.13819333e+07,\n",
       "       5.28988849e+07, 4.34616937e+07, 4.73766313e+07, 6.99599614e+07,\n",
       "       5.29179864e+07, 5.36216138e+07, 3.78605600e+07, 6.40162071e+07,\n",
       "       3.21064792e+07, 5.32452685e+07, 7.07231125e+07, 3.52813087e+07,\n",
       "       5.66002994e+07, 4.26995407e+07, 4.61782176e+07, 4.07471618e+07,\n",
       "       3.50451260e+07, 5.27858596e+07, 5.18730673e+07, 5.64591897e+07,\n",
       "       6.63829008e+07, 5.16180225e+07, 5.01485829e+07, 6.07043202e+07,\n",
       "       4.39312488e+07, 5.50361648e+07, 4.21606481e+07, 3.35565881e+07,\n",
       "       5.27093401e+07, 4.64385978e+07, 4.79593839e+07, 4.27941296e+07,\n",
       "       2.89860480e+07, 4.29899970e+07, 4.70839760e+07, 3.37634415e+07,\n",
       "       4.24333802e+07, 5.12084841e+07, 5.64904044e+07, 4.11449432e+07,\n",
       "       5.28647000e+07, 4.46035029e+07, 3.70538520e+07, 4.52142465e+07,\n",
       "       5.17890744e+07, 5.44586701e+07, 3.51746159e+07, 3.79706864e+07,\n",
       "       4.47118121e+07, 6.73698340e+07, 4.72868658e+07, 5.71840529e+07,\n",
       "       6.88206089e+07, 5.07256706e+07, 6.35285944e+07, 3.63655346e+07,\n",
       "       5.37136532e+07, 6.46169577e+07, 4.19677053e+07, 7.97956157e+07,\n",
       "       3.83707967e+07, 5.16485994e+07, 5.92685074e+07, 3.75040940e+07,\n",
       "       4.86565084e+07, 3.60381386e+07, 5.19615412e+07, 3.72108995e+07,\n",
       "       3.79961862e+07, 3.58761547e+07, 4.78124211e+07, 4.27085952e+07,\n",
       "       6.49617782e+07, 4.28149883e+07, 4.72082585e+07, 3.44487169e+07,\n",
       "       4.85737817e+07, 4.99591555e+07, 4.28550107e+07, 3.58425755e+07,\n",
       "       4.31450832e+07, 4.07622235e+07, 5.87845236e+07, 3.97993741e+07,\n",
       "       2.99763720e+07, 6.43383813e+07, 3.37936641e+07, 5.58590763e+07,\n",
       "       5.17270463e+07, 4.24780438e+07, 4.71216940e+07, 4.52015444e+07,\n",
       "       5.01442550e+07, 4.59357010e+07, 3.59584648e+07, 5.27072573e+07,\n",
       "       3.47772033e+07, 3.44764129e+07, 3.77401850e+07, 4.19726593e+07,\n",
       "       1.05977429e+08, 3.73370689e+07, 5.47253514e+07, 5.66578915e+07,\n",
       "       5.81680494e+07, 3.23328166e+07, 3.38458814e+07, 3.57583151e+07,\n",
       "       5.10404560e+07, 4.50349269e+07, 3.55250251e+07, 6.08499813e+07,\n",
       "       4.62623621e+07, 3.96117342e+07, 4.90172181e+07, 3.77049496e+07,\n",
       "       4.43139329e+07, 3.51011083e+07, 6.09670945e+07, 2.50399221e+07,\n",
       "       4.48166465e+07, 7.41948526e+07, 4.02617506e+07, 3.20009439e+07,\n",
       "       4.61626056e+07, 3.89635932e+07, 3.99353968e+07, 5.66368243e+07,\n",
       "       4.67123035e+07, 5.62740178e+07, 5.68270601e+07, 6.21010899e+07,\n",
       "       4.04132140e+07, 4.44432806e+07, 4.01667903e+07, 5.47430684e+07,\n",
       "       4.10628134e+07, 4.75886027e+07, 6.08550295e+07, 4.50359238e+07,\n",
       "       4.02361416e+07, 5.60504162e+07, 3.38619334e+07, 6.53854253e+07,\n",
       "       3.64100964e+07, 3.59018875e+07, 5.30784390e+07, 5.43708804e+07,\n",
       "       3.78990404e+07, 4.23055371e+07, 3.55952606e+07, 2.55229448e+07,\n",
       "       4.96591198e+07, 4.45066236e+07, 4.75780268e+07, 5.07045941e+07,\n",
       "       6.68476026e+07, 3.48278236e+07, 4.33552879e+07, 8.72752469e+07,\n",
       "       3.77066096e+07, 4.28060088e+07, 7.06936671e+07, 3.40513565e+07,\n",
       "       4.65138557e+07, 4.45638214e+07, 2.69229479e+07, 2.92752436e+07,\n",
       "       4.93948164e+07, 4.07780090e+07, 4.05662310e+07, 5.51988138e+07,\n",
       "       4.32544045e+07, 3.20759213e+07, 5.80059854e+07, 4.21598760e+07,\n",
       "       3.98416046e+07, 3.83754606e+07, 3.52919216e+07, 2.49570132e+07,\n",
       "       3.50214823e+07, 5.53764216e+07, 6.46726581e+07, 5.58432642e+07,\n",
       "       3.71021997e+07, 3.13008003e+07, 5.19169298e+07, 3.88784969e+07,\n",
       "       6.09243816e+07, 3.01534488e+07, 7.20577359e+07, 4.85409442e+07,\n",
       "       3.04118848e+07, 3.45634951e+07, 4.05053304e+07, 3.47196857e+07,\n",
       "       5.33494997e+07, 3.71564842e+07, 3.69571909e+07, 4.29044301e+07,\n",
       "       4.07713216e+07, 3.56398920e+07, 3.66920621e+07, 4.28806205e+07,\n",
       "       4.72384646e+07, 3.29836750e+07, 3.94108532e+07, 4.62487188e+07,\n",
       "       3.58376623e+07, 3.31088286e+07, 3.85107117e+07, 5.12593713e+07,\n",
       "       3.42482704e+07, 4.41110846e+07, 3.19896967e+07, 6.97455598e+07,\n",
       "       4.08843904e+07, 4.52907734e+07, 4.74219455e+07, 6.32236200e+07,\n",
       "       3.39913109e+07, 4.60673784e+07, 4.33070063e+07, 4.24051245e+07,\n",
       "       3.78324393e+07, 5.55213276e+07, 4.57572410e+07, 4.57623527e+07,\n",
       "       3.21422875e+07, 3.94140035e+07, 4.51595341e+07, 5.87923244e+07,\n",
       "       5.69660363e+07, 4.25994461e+07, 3.24170713e+07, 3.37842635e+07,\n",
       "       5.60425811e+07, 4.18472873e+07, 5.32026667e+07, 3.77269805e+07,\n",
       "       5.44626991e+07, 4.25775479e+07, 3.47135146e+07, 3.42884357e+07,\n",
       "       3.50354180e+07, 4.26229083e+07, 3.92428124e+07, 3.99012234e+07,\n",
       "       6.91272377e+07, 4.53931424e+07, 4.32578869e+07, 4.12206803e+07,\n",
       "       3.03531408e+07, 4.36917238e+07, 5.90087153e+07, 3.64261023e+07,\n",
       "       4.23942916e+07, 4.07940296e+07, 4.23716741e+07, 5.05462990e+07,\n",
       "       3.50421948e+07, 4.15258975e+07, 5.19636943e+07, 4.39826638e+07,\n",
       "       3.86612251e+07, 6.27531119e+07, 4.32006436e+07, 6.23251979e+07,\n",
       "       6.07541057e+07, 4.02491775e+07, 3.40975037e+07, 4.33027615e+07,\n",
       "       4.37148880e+07, 4.37646752e+07, 4.67488429e+07, 4.34183630e+07,\n",
       "       4.61483128e+07, 5.21309762e+07, 3.47986941e+07, 4.80023064e+07,\n",
       "       4.96609599e+07, 3.86271839e+07, 2.94378606e+07, 5.74679062e+07,\n",
       "       3.85316766e+07, 3.39422071e+07, 6.03861865e+07, 3.93764520e+07,\n",
       "       3.15825424e+07, 3.58597115e+07, 3.94777581e+07, 2.91046021e+07,\n",
       "       4.45033494e+07, 5.13798057e+07, 5.29681328e+07, 5.86453917e+07,\n",
       "       5.33891152e+07, 3.98777865e+07, 6.26432414e+07, 5.29407464e+07,\n",
       "       6.31730021e+07, 7.12230736e+07, 5.35829500e+07, 6.18986880e+07,\n",
       "       5.08661280e+07, 5.03743630e+07, 5.72449189e+07, 4.41163897e+07,\n",
       "       6.50523232e+07, 5.27242363e+07, 4.73256546e+07, 3.81274333e+07,\n",
       "       4.01562690e+07, 5.07444287e+07, 3.25575149e+07, 5.56519378e+07,\n",
       "       3.22849902e+07, 6.75243855e+07, 5.03992044e+07, 4.84680327e+07,\n",
       "       5.04307699e+07, 5.24248381e+07, 4.74880274e+07, 4.92515024e+07,\n",
       "       6.45015006e+07, 3.93997370e+07, 5.01855867e+07, 3.08685451e+07,\n",
       "       3.54000315e+07, 5.28611302e+07, 3.68246970e+07, 4.34483442e+07,\n",
       "       4.32857239e+07, 5.16982616e+07, 6.26453602e+07, 3.53479767e+07,\n",
       "       5.12550753e+07, 3.20963277e+07, 3.85950678e+07, 4.88214684e+07,\n",
       "       3.81889438e+07, 6.50357538e+07, 5.87564544e+07, 4.05014901e+07,\n",
       "       4.16654994e+07, 3.85654380e+07, 5.38990523e+07, 4.73673601e+07,\n",
       "       4.02306275e+07, 4.16808707e+07, 4.47833135e+07, 3.68382442e+07,\n",
       "       8.83801158e+07, 7.65152201e+07, 4.55592742e+07, 4.89972221e+07,\n",
       "       6.32105777e+07, 4.57966006e+07, 5.59074393e+07, 3.75051324e+07,\n",
       "       3.65757638e+07, 6.20385208e+07, 4.60316796e+07, 4.77175732e+07,\n",
       "       3.85121499e+07, 5.49039243e+07, 3.60161746e+07, 4.32600790e+07,\n",
       "       5.18220468e+07, 5.97724837e+07, 3.89671430e+07, 5.41511446e+07,\n",
       "       4.69365871e+07, 4.49334736e+07, 4.64950090e+07, 3.83158380e+07,\n",
       "       4.26019786e+07, 4.98047285e+07, 5.22109718e+07, 4.62242772e+07,\n",
       "       4.05385662e+07, 4.53818787e+07, 6.01842359e+07, 4.85768044e+07,\n",
       "       6.02693714e+07, 3.64962433e+07, 5.82870070e+07, 5.24862142e+07,\n",
       "       4.94372095e+07, 3.91023186e+07, 4.75992750e+07, 5.10286239e+07,\n",
       "       3.55218291e+07, 7.03745753e+07, 3.36323312e+07, 4.19845056e+07,\n",
       "       4.17580872e+07, 3.69632899e+07, 5.54715983e+07, 4.53999423e+07,\n",
       "       5.69799470e+07, 5.24538595e+07, 5.85252676e+07, 4.59369873e+07,\n",
       "       4.08948884e+07, 6.17702999e+07, 3.96802634e+07, 5.46125669e+07,\n",
       "       4.60638947e+07, 5.19080889e+07, 5.85450518e+07, 4.35977554e+07,\n",
       "       4.90201602e+07, 4.94676363e+07, 3.97387972e+07, 4.46188125e+07,\n",
       "       6.42925630e+07, 4.12274290e+07, 7.38669529e+07, 3.73460404e+07,\n",
       "       3.21190054e+07, 3.72801298e+07, 4.78899772e+07, 5.03294219e+07,\n",
       "       3.16101583e+07, 6.05559140e+07, 4.66651869e+07, 4.18302311e+07,\n",
       "       4.93973959e+07, 4.49551518e+07, 6.39600639e+07, 5.39676234e+07,\n",
       "       3.83248340e+07, 3.39909605e+07, 4.77518013e+07, 4.88072550e+07,\n",
       "       5.52175754e+07, 4.15963872e+07, 3.55529333e+07, 4.22947531e+07,\n",
       "       4.84178309e+07, 6.12942359e+07, 3.52337978e+07, 3.40022094e+07,\n",
       "       4.59209040e+07, 4.22647001e+07, 3.50381758e+07, 4.03851972e+07,\n",
       "       6.42332347e+07, 4.61946191e+07, 5.40410942e+07, 4.33131727e+07,\n",
       "       4.39870459e+07, 6.00521074e+07, 3.84990741e+07, 3.84180515e+07,\n",
       "       4.46513438e+07, 4.66529589e+07, 3.39989969e+07, 7.07042635e+07,\n",
       "       5.08805915e+07, 3.85867433e+07, 5.33842622e+07, 6.87914798e+07,\n",
       "       4.16109127e+07, 5.32586305e+07, 4.24567308e+07, 3.57576104e+07,\n",
       "       4.66738085e+07, 5.59373228e+07, 4.21275438e+07, 3.92088374e+07,\n",
       "       3.72868713e+07, 5.54063626e+07, 4.16484355e+07, 3.76545998e+07,\n",
       "       3.90848390e+07, 5.64650648e+07, 4.20251970e+07, 5.81945952e+07,\n",
       "       3.76643404e+07, 4.26827137e+07, 4.61371581e+07, 6.79617672e+07,\n",
       "       5.07313805e+07, 3.15389475e+07, 4.36555793e+07, 3.85904940e+07,\n",
       "       4.50429000e+07, 3.43601950e+07, 3.50169540e+07, 5.88515291e+07,\n",
       "       4.37970549e+07, 4.48213126e+07, 2.50576170e+07, 5.00613033e+07,\n",
       "       3.44550189e+07, 5.71207775e+07, 3.01358586e+07, 3.83521041e+07,\n",
       "       4.44616402e+07, 4.04187870e+07, 4.85279009e+07, 4.59375668e+07,\n",
       "       5.21134480e+07, 5.95230774e+07, 7.14280243e+07, 5.14890808e+07,\n",
       "       5.99605664e+07, 4.44142184e+07, 5.06116615e+07, 5.88126703e+07,\n",
       "       4.00507356e+07, 3.50374731e+07, 3.55978875e+07])"
      ]
     },
     "execution_count": 92,
     "metadata": {},
     "output_type": "execute_result"
    }
   ],
   "source": [
    "# predictions for sales price\n",
    "yhat = lasso.predict(test[features])\n",
    "yhat"
   ]
  },
  {
   "cell_type": "code",
   "execution_count": 93,
   "metadata": {},
   "outputs": [],
   "source": [
    "# Get the Id column for the test data from the untouched test dataframe set aside at the begining\n",
    "# save as our submissions head, as per the requirements of the Kaggle competition\n",
    "submission_pd = pd.DataFrame(clean_test.Id)"
   ]
  },
  {
   "cell_type": "code",
   "execution_count": 94,
   "metadata": {},
   "outputs": [
    {
     "data": {
      "text/html": [
       "<div>\n",
       "<style scoped>\n",
       "    .dataframe tbody tr th:only-of-type {\n",
       "        vertical-align: middle;\n",
       "    }\n",
       "\n",
       "    .dataframe tbody tr th {\n",
       "        vertical-align: top;\n",
       "    }\n",
       "\n",
       "    .dataframe thead th {\n",
       "        text-align: right;\n",
       "    }\n",
       "</style>\n",
       "<table border=\"1\" class=\"dataframe\">\n",
       "  <thead>\n",
       "    <tr style=\"text-align: right;\">\n",
       "      <th></th>\n",
       "      <th>Id</th>\n",
       "    </tr>\n",
       "  </thead>\n",
       "  <tbody>\n",
       "    <tr>\n",
       "      <th>0</th>\n",
       "      <td>2658</td>\n",
       "    </tr>\n",
       "    <tr>\n",
       "      <th>1</th>\n",
       "      <td>2718</td>\n",
       "    </tr>\n",
       "    <tr>\n",
       "      <th>2</th>\n",
       "      <td>2414</td>\n",
       "    </tr>\n",
       "    <tr>\n",
       "      <th>3</th>\n",
       "      <td>1989</td>\n",
       "    </tr>\n",
       "    <tr>\n",
       "      <th>4</th>\n",
       "      <td>625</td>\n",
       "    </tr>\n",
       "  </tbody>\n",
       "</table>\n",
       "</div>"
      ],
      "text/plain": [
       "     Id\n",
       "0  2658\n",
       "1  2718\n",
       "2  2414\n",
       "3  1989\n",
       "4   625"
      ]
     },
     "execution_count": 94,
     "metadata": {},
     "output_type": "execute_result"
    }
   ],
   "source": [
    "# check the first five values of our submission header\n",
    "submission_pd.head(5)"
   ]
  },
  {
   "cell_type": "code",
   "execution_count": 95,
   "metadata": {},
   "outputs": [],
   "source": [
    "# set the SalesPrice column of our submission to be the predictions made by our LASSO model\n",
    "submission_pd['SalePrice'] = y_pred"
   ]
  },
  {
   "cell_type": "code",
   "execution_count": 96,
   "metadata": {},
   "outputs": [
    {
     "data": {
      "text/html": [
       "<div>\n",
       "<style scoped>\n",
       "    .dataframe tbody tr th:only-of-type {\n",
       "        vertical-align: middle;\n",
       "    }\n",
       "\n",
       "    .dataframe tbody tr th {\n",
       "        vertical-align: top;\n",
       "    }\n",
       "\n",
       "    .dataframe thead th {\n",
       "        text-align: right;\n",
       "    }\n",
       "</style>\n",
       "<table border=\"1\" class=\"dataframe\">\n",
       "  <thead>\n",
       "    <tr style=\"text-align: right;\">\n",
       "      <th></th>\n",
       "      <th>Id</th>\n",
       "      <th>SalePrice</th>\n",
       "    </tr>\n",
       "  </thead>\n",
       "  <tbody>\n",
       "    <tr>\n",
       "      <th>0</th>\n",
       "      <td>2658</td>\n",
       "      <td>135357.945808</td>\n",
       "    </tr>\n",
       "    <tr>\n",
       "      <th>1</th>\n",
       "      <td>2718</td>\n",
       "      <td>147978.301088</td>\n",
       "    </tr>\n",
       "    <tr>\n",
       "      <th>2</th>\n",
       "      <td>2414</td>\n",
       "      <td>225009.012710</td>\n",
       "    </tr>\n",
       "    <tr>\n",
       "      <th>3</th>\n",
       "      <td>1989</td>\n",
       "      <td>103794.260554</td>\n",
       "    </tr>\n",
       "    <tr>\n",
       "      <th>4</th>\n",
       "      <td>625</td>\n",
       "      <td>177162.462551</td>\n",
       "    </tr>\n",
       "  </tbody>\n",
       "</table>\n",
       "</div>"
      ],
      "text/plain": [
       "     Id      SalePrice\n",
       "0  2658  135357.945808\n",
       "1  2718  147978.301088\n",
       "2  2414  225009.012710\n",
       "3  1989  103794.260554\n",
       "4   625  177162.462551"
      ]
     },
     "execution_count": 96,
     "metadata": {},
     "output_type": "execute_result"
    }
   ],
   "source": [
    "# check the first five rows of our full submission datafram\n",
    "submission_pd.head(5)"
   ]
  },
  {
   "cell_type": "code",
   "execution_count": 97,
   "metadata": {},
   "outputs": [],
   "source": [
    "# save our submission dataframe to the file submission.csv, which is now formatted to be submitted to Kaggle\n",
    "submission_pd.to_csv('./datasets/submission.csv', index=False)"
   ]
  },
  {
   "cell_type": "markdown",
   "metadata": {},
   "source": [
    "# Conclusions and Recommendations"
   ]
  },
  {
   "cell_type": "markdown",
   "metadata": {},
   "source": [
    "The cleaning of this data was rigorous and occasionally not completely obvious.  While the provided document [Ames Housing .txt file](http://jse.amstat.org/v19n3/decock/DataDocumentation.txt) alluded to null values in regards to alley access, basement, fireplace, garage, pool, fence, and other miscellaneous features (which were switched to mark as 'none'), and thus to descriptive factors of those features (which were marked to integer values of 0), there were other null values that took more exploration to discover.  Masonry Veneer Type was listed in the [Ames Housing .txt file](http://jse.amstat.org/v19n3/decock/DataDocumentation.txt) as being marked \"none\" for an absence of the feature, but this was not the case as those values were left null, discovered only by the fact that the same amount of cells for Masonry Veneer area were also null in the provided training data document.  The remaining total null values in that document happened to be equal to the amount of null values for Lot Frontage (marked to 0), and there was one null value for a single cell in the Electrical Sytem column in a single row of the testing data, also marked to 0.\n",
    "\n",
    "Then, using dummy variables, I converted the qualitative features into something numeric that could be used by a computer to find the correlation between that data and the sales price.  This produced a lot of new columns, many which were in the training data but not the testing data, and vice versa (this was due to values under the qualitative categories that existed in the column of one but not the other, such as a roof material value of metal (which was in at least one house in the testing data but not for any in the training data) or the roof material made of membrane (which was in the training data but not the testing data).  I tried setting these values where they were missing to 0 (since they were dummy variables with a value of 1 or 0, where 0 signified not having said quality), but for some reason this gave me a worse fitting models and worse [Kaggle](https://www.kaggle.com/c/dsi-us-8-project-2-regression-challenge/) scores, so I just dropped those dummy columns.\n",
    "\n",
    "Based on the final data, I analyzed factors that affected the price in the training data.  The features that had the greatest positive correlation with price were (in order) Overall Quality, the Above Ground Living Area Square Footage, the Garage Area Square Footage, the Size of garage (in car capacity), and the Total Basement Square Footage.  The features that had the greatest negative correlation with price were (in order) having an External Quality ranked Average or Typical, having a Kitchen with Quality ranked as Average or Typical, the absence of a Fireplace, the quality of the Basement being ranked as Average or Typical, and having a garage with an unfinished Interior.  All of these results made logical sense and seemed quite obvious.  Analyzing only the neighborhood dummy variables correlation with price, I found the the top 5 neighborhoods with a positive effect on the sales price were (in order) Northridge Heights, Northridge, Stone Brook, Somerset, and Timberland.\n",
    "\n",
    "I fiddled around with filtering out some of the data by low correlation, and through much testing, found I acheived the best results filter out features that had less than 5% positive correlation and more than -5% negative correlation.  I also dropped Id and PID, because even though they had a relatively ok correlation with price in the training data, they were random numbers that had no actual impact on the price, and dropping them improved my results.  When fitting a model to a train-test-split of this enhanced training data, I tried a linear regression model, a LASSO model, and a ridge model.  The linear regression model worked TERRIBLY (probably because I used a LOT of features - 173 features to be precise).  The ridge and LASSO models worked much, much better (which was not unexpected as they are more refined and filter out noise that comes from having so many features.  In the end, the LASSO model worked the best, and got a score of 0.897 on the training data's training data and a score of 0.899 on the training data's testing data (note to self: next time rename the variables containing the data).  When formatted and submitted to the [Kaggle contest](https://www.kaggle.com/c/dsi-us-8-project-2-regression-challenge/) I only got a score of 27658.196; which makes sense because the model was obviously overfitted and the [Kaggle contest](https://www.kaggle.com/c/dsi-us-8-project-2-regression-challenge/) was judged by the Root Mean Squared Error."
   ]
  },
  {
   "cell_type": "markdown",
   "metadata": {},
   "source": [
    "## Source Documentation\n",
    "\n",
    "- [Kaggle's DSI-US-8 Project 2 Regression Challenge](https://www.kaggle.com/c/dsi-us-8-project-2-regression-challenge/)\n",
    "- [Ames Housing .txt file](http://jse.amstat.org/v19n3/decock/DataDocumentation.txt)\n"
   ]
  },
  {
   "cell_type": "code",
   "execution_count": null,
   "metadata": {},
   "outputs": [],
   "source": []
  }
 ],
 "metadata": {
  "kernelspec": {
   "display_name": "Python [conda env:dsi] *",
   "language": "python",
   "name": "conda-env-dsi-py"
  },
  "language_info": {
   "codemirror_mode": {
    "name": "ipython",
    "version": 3
   },
   "file_extension": ".py",
   "mimetype": "text/x-python",
   "name": "python",
   "nbconvert_exporter": "python",
   "pygments_lexer": "ipython3",
   "version": "3.7.3"
  }
 },
 "nbformat": 4,
 "nbformat_minor": 2
}
